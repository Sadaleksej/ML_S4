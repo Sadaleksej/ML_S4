{
  "cells": [
    {
      "cell_type": "markdown",
      "metadata": {
        "id": "CIu2DPx5tWcg"
      },
      "source": [
        "## Домашнее задание"
      ]
    },
    {
      "cell_type": "markdown",
      "metadata": {
        "id": "ENiWYl_EtWcm"
      },
      "source": [
        "### 1. Загрузите тренировочные и тестовые датасеты"
      ]
    },
    {
      "cell_type": "code",
      "source": [
        "pip install category_encoders"
      ],
      "metadata": {
        "id": "Z0mH9_L9x8ln",
        "colab": {
          "base_uri": "https://localhost:8080/"
        },
        "outputId": "71aaf51f-bb59-4994-d53d-27b72d8ff221"
      },
      "execution_count": 1,
      "outputs": [
        {
          "output_type": "stream",
          "name": "stdout",
          "text": [
            "Collecting category_encoders\n",
            "  Downloading category_encoders-2.6.4-py2.py3-none-any.whl.metadata (8.0 kB)\n",
            "Requirement already satisfied: numpy>=1.14.0 in /usr/local/lib/python3.10/dist-packages (from category_encoders) (1.26.4)\n",
            "Requirement already satisfied: scikit-learn>=0.20.0 in /usr/local/lib/python3.10/dist-packages (from category_encoders) (1.5.2)\n",
            "Requirement already satisfied: scipy>=1.0.0 in /usr/local/lib/python3.10/dist-packages (from category_encoders) (1.13.1)\n",
            "Requirement already satisfied: statsmodels>=0.9.0 in /usr/local/lib/python3.10/dist-packages (from category_encoders) (0.14.4)\n",
            "Requirement already satisfied: pandas>=1.0.5 in /usr/local/lib/python3.10/dist-packages (from category_encoders) (2.2.2)\n",
            "Requirement already satisfied: patsy>=0.5.1 in /usr/local/lib/python3.10/dist-packages (from category_encoders) (0.5.6)\n",
            "Requirement already satisfied: python-dateutil>=2.8.2 in /usr/local/lib/python3.10/dist-packages (from pandas>=1.0.5->category_encoders) (2.8.2)\n",
            "Requirement already satisfied: pytz>=2020.1 in /usr/local/lib/python3.10/dist-packages (from pandas>=1.0.5->category_encoders) (2024.2)\n",
            "Requirement already satisfied: tzdata>=2022.7 in /usr/local/lib/python3.10/dist-packages (from pandas>=1.0.5->category_encoders) (2024.2)\n",
            "Requirement already satisfied: six in /usr/local/lib/python3.10/dist-packages (from patsy>=0.5.1->category_encoders) (1.16.0)\n",
            "Requirement already satisfied: joblib>=1.2.0 in /usr/local/lib/python3.10/dist-packages (from scikit-learn>=0.20.0->category_encoders) (1.4.2)\n",
            "Requirement already satisfied: threadpoolctl>=3.1.0 in /usr/local/lib/python3.10/dist-packages (from scikit-learn>=0.20.0->category_encoders) (3.5.0)\n",
            "Requirement already satisfied: packaging>=21.3 in /usr/local/lib/python3.10/dist-packages (from statsmodels>=0.9.0->category_encoders) (24.1)\n",
            "Downloading category_encoders-2.6.4-py2.py3-none-any.whl (82 kB)\n",
            "\u001b[2K   \u001b[90m━━━━━━━━━━━━━━━━━━━━━━━━━━━━━━━━━━━━━━━━\u001b[0m \u001b[32m82.0/82.0 kB\u001b[0m \u001b[31m3.9 MB/s\u001b[0m eta \u001b[36m0:00:00\u001b[0m\n",
            "\u001b[?25hInstalling collected packages: category_encoders\n",
            "Successfully installed category_encoders-2.6.4\n"
          ]
        }
      ]
    },
    {
      "cell_type": "code",
      "execution_count": 2,
      "metadata": {
        "id": "_uf-KNwQtWcn"
      },
      "outputs": [],
      "source": [
        "import pandas as pd\n",
        "from category_encoders import TargetEncoder\n",
        "from sklearn.preprocessing import StandardScaler\n",
        "from sklearn.linear_model import LogisticRegression\n",
        "from sklearn.svm import SVC\n",
        "from sklearn.neighbors import KNeighborsClassifier\n",
        "import numpy as np\n",
        "import seaborn as sns\n",
        "\n",
        "\n",
        "Xtrain = pd.read_csv(\"TrainData.csv\")\n",
        "Xtest = pd.read_csv(\"TestData.csv\")"
      ]
    },
    {
      "cell_type": "markdown",
      "source": [
        "**Исследуем набор Xtrain**"
      ],
      "metadata": {
        "id": "YQWD5rJX0C5V"
      }
    },
    {
      "cell_type": "code",
      "execution_count": 3,
      "metadata": {
        "id": "sqevAjp-tWcr",
        "colab": {
          "base_uri": "https://localhost:8080/",
          "height": 226
        },
        "outputId": "996c918e-dddc-4bc4-e867-221d217737df"
      },
      "outputs": [
        {
          "output_type": "execute_result",
          "data": {
            "text/plain": [
              "   f1          f2      f3        f4  f5        f6        f7        f8  \\\n",
              "0  50  218.593930  273536  0.104575   4  0.445026  0.274531  0.444334   \n",
              "1  32  276.771005  173314  0.224684  11  0.445026  0.439103  0.444334   \n",
              "2  38  218.593930   28887  0.032491   7  0.445026  0.274531  0.444334   \n",
              "3  19  218.593930  427862  0.179322  10  0.049127  0.044987  0.009499   \n",
              "4  44  218.593930  109339  0.032491   7  0.098837  0.115721  0.066581   \n",
              "\n",
              "          f9       f10  f11  f12  f13       f14  target  \n",
              "0   5.970149  0.300298  0.0    0   49  0.100000       0  \n",
              "1   5.970149  0.300298  0.0    0   60  0.244418       0  \n",
              "2  25.606721  0.300298  0.0    0   50  0.244418       0  \n",
              "3  25.606721  0.300298  0.0    0   35  0.244418       0  \n",
              "4   5.970149  0.113590  0.0    0   46  0.185185       0  "
            ],
            "text/html": [
              "\n",
              "  <div id=\"df-ab9bb2f1-6897-4e14-a523-84e2f57d7033\" class=\"colab-df-container\">\n",
              "    <div>\n",
              "<style scoped>\n",
              "    .dataframe tbody tr th:only-of-type {\n",
              "        vertical-align: middle;\n",
              "    }\n",
              "\n",
              "    .dataframe tbody tr th {\n",
              "        vertical-align: top;\n",
              "    }\n",
              "\n",
              "    .dataframe thead th {\n",
              "        text-align: right;\n",
              "    }\n",
              "</style>\n",
              "<table border=\"1\" class=\"dataframe\">\n",
              "  <thead>\n",
              "    <tr style=\"text-align: right;\">\n",
              "      <th></th>\n",
              "      <th>f1</th>\n",
              "      <th>f2</th>\n",
              "      <th>f3</th>\n",
              "      <th>f4</th>\n",
              "      <th>f5</th>\n",
              "      <th>f6</th>\n",
              "      <th>f7</th>\n",
              "      <th>f8</th>\n",
              "      <th>f9</th>\n",
              "      <th>f10</th>\n",
              "      <th>f11</th>\n",
              "      <th>f12</th>\n",
              "      <th>f13</th>\n",
              "      <th>f14</th>\n",
              "      <th>target</th>\n",
              "    </tr>\n",
              "  </thead>\n",
              "  <tbody>\n",
              "    <tr>\n",
              "      <th>0</th>\n",
              "      <td>50</td>\n",
              "      <td>218.593930</td>\n",
              "      <td>273536</td>\n",
              "      <td>0.104575</td>\n",
              "      <td>4</td>\n",
              "      <td>0.445026</td>\n",
              "      <td>0.274531</td>\n",
              "      <td>0.444334</td>\n",
              "      <td>5.970149</td>\n",
              "      <td>0.300298</td>\n",
              "      <td>0.0</td>\n",
              "      <td>0</td>\n",
              "      <td>49</td>\n",
              "      <td>0.100000</td>\n",
              "      <td>0</td>\n",
              "    </tr>\n",
              "    <tr>\n",
              "      <th>1</th>\n",
              "      <td>32</td>\n",
              "      <td>276.771005</td>\n",
              "      <td>173314</td>\n",
              "      <td>0.224684</td>\n",
              "      <td>11</td>\n",
              "      <td>0.445026</td>\n",
              "      <td>0.439103</td>\n",
              "      <td>0.444334</td>\n",
              "      <td>5.970149</td>\n",
              "      <td>0.300298</td>\n",
              "      <td>0.0</td>\n",
              "      <td>0</td>\n",
              "      <td>60</td>\n",
              "      <td>0.244418</td>\n",
              "      <td>0</td>\n",
              "    </tr>\n",
              "    <tr>\n",
              "      <th>2</th>\n",
              "      <td>38</td>\n",
              "      <td>218.593930</td>\n",
              "      <td>28887</td>\n",
              "      <td>0.032491</td>\n",
              "      <td>7</td>\n",
              "      <td>0.445026</td>\n",
              "      <td>0.274531</td>\n",
              "      <td>0.444334</td>\n",
              "      <td>25.606721</td>\n",
              "      <td>0.300298</td>\n",
              "      <td>0.0</td>\n",
              "      <td>0</td>\n",
              "      <td>50</td>\n",
              "      <td>0.244418</td>\n",
              "      <td>0</td>\n",
              "    </tr>\n",
              "    <tr>\n",
              "      <th>3</th>\n",
              "      <td>19</td>\n",
              "      <td>218.593930</td>\n",
              "      <td>427862</td>\n",
              "      <td>0.179322</td>\n",
              "      <td>10</td>\n",
              "      <td>0.049127</td>\n",
              "      <td>0.044987</td>\n",
              "      <td>0.009499</td>\n",
              "      <td>25.606721</td>\n",
              "      <td>0.300298</td>\n",
              "      <td>0.0</td>\n",
              "      <td>0</td>\n",
              "      <td>35</td>\n",
              "      <td>0.244418</td>\n",
              "      <td>0</td>\n",
              "    </tr>\n",
              "    <tr>\n",
              "      <th>4</th>\n",
              "      <td>44</td>\n",
              "      <td>218.593930</td>\n",
              "      <td>109339</td>\n",
              "      <td>0.032491</td>\n",
              "      <td>7</td>\n",
              "      <td>0.098837</td>\n",
              "      <td>0.115721</td>\n",
              "      <td>0.066581</td>\n",
              "      <td>5.970149</td>\n",
              "      <td>0.113590</td>\n",
              "      <td>0.0</td>\n",
              "      <td>0</td>\n",
              "      <td>46</td>\n",
              "      <td>0.185185</td>\n",
              "      <td>0</td>\n",
              "    </tr>\n",
              "  </tbody>\n",
              "</table>\n",
              "</div>\n",
              "    <div class=\"colab-df-buttons\">\n",
              "\n",
              "  <div class=\"colab-df-container\">\n",
              "    <button class=\"colab-df-convert\" onclick=\"convertToInteractive('df-ab9bb2f1-6897-4e14-a523-84e2f57d7033')\"\n",
              "            title=\"Convert this dataframe to an interactive table.\"\n",
              "            style=\"display:none;\">\n",
              "\n",
              "  <svg xmlns=\"http://www.w3.org/2000/svg\" height=\"24px\" viewBox=\"0 -960 960 960\">\n",
              "    <path d=\"M120-120v-720h720v720H120Zm60-500h600v-160H180v160Zm220 220h160v-160H400v160Zm0 220h160v-160H400v160ZM180-400h160v-160H180v160Zm440 0h160v-160H620v160ZM180-180h160v-160H180v160Zm440 0h160v-160H620v160Z\"/>\n",
              "  </svg>\n",
              "    </button>\n",
              "\n",
              "  <style>\n",
              "    .colab-df-container {\n",
              "      display:flex;\n",
              "      gap: 12px;\n",
              "    }\n",
              "\n",
              "    .colab-df-convert {\n",
              "      background-color: #E8F0FE;\n",
              "      border: none;\n",
              "      border-radius: 50%;\n",
              "      cursor: pointer;\n",
              "      display: none;\n",
              "      fill: #1967D2;\n",
              "      height: 32px;\n",
              "      padding: 0 0 0 0;\n",
              "      width: 32px;\n",
              "    }\n",
              "\n",
              "    .colab-df-convert:hover {\n",
              "      background-color: #E2EBFA;\n",
              "      box-shadow: 0px 1px 2px rgba(60, 64, 67, 0.3), 0px 1px 3px 1px rgba(60, 64, 67, 0.15);\n",
              "      fill: #174EA6;\n",
              "    }\n",
              "\n",
              "    .colab-df-buttons div {\n",
              "      margin-bottom: 4px;\n",
              "    }\n",
              "\n",
              "    [theme=dark] .colab-df-convert {\n",
              "      background-color: #3B4455;\n",
              "      fill: #D2E3FC;\n",
              "    }\n",
              "\n",
              "    [theme=dark] .colab-df-convert:hover {\n",
              "      background-color: #434B5C;\n",
              "      box-shadow: 0px 1px 3px 1px rgba(0, 0, 0, 0.15);\n",
              "      filter: drop-shadow(0px 1px 2px rgba(0, 0, 0, 0.3));\n",
              "      fill: #FFFFFF;\n",
              "    }\n",
              "  </style>\n",
              "\n",
              "    <script>\n",
              "      const buttonEl =\n",
              "        document.querySelector('#df-ab9bb2f1-6897-4e14-a523-84e2f57d7033 button.colab-df-convert');\n",
              "      buttonEl.style.display =\n",
              "        google.colab.kernel.accessAllowed ? 'block' : 'none';\n",
              "\n",
              "      async function convertToInteractive(key) {\n",
              "        const element = document.querySelector('#df-ab9bb2f1-6897-4e14-a523-84e2f57d7033');\n",
              "        const dataTable =\n",
              "          await google.colab.kernel.invokeFunction('convertToInteractive',\n",
              "                                                    [key], {});\n",
              "        if (!dataTable) return;\n",
              "\n",
              "        const docLinkHtml = 'Like what you see? Visit the ' +\n",
              "          '<a target=\"_blank\" href=https://colab.research.google.com/notebooks/data_table.ipynb>data table notebook</a>'\n",
              "          + ' to learn more about interactive tables.';\n",
              "        element.innerHTML = '';\n",
              "        dataTable['output_type'] = 'display_data';\n",
              "        await google.colab.output.renderOutput(dataTable, element);\n",
              "        const docLink = document.createElement('div');\n",
              "        docLink.innerHTML = docLinkHtml;\n",
              "        element.appendChild(docLink);\n",
              "      }\n",
              "    </script>\n",
              "  </div>\n",
              "\n",
              "\n",
              "<div id=\"df-78796a04-bf90-43ba-8660-9ad0c4737261\">\n",
              "  <button class=\"colab-df-quickchart\" onclick=\"quickchart('df-78796a04-bf90-43ba-8660-9ad0c4737261')\"\n",
              "            title=\"Suggest charts\"\n",
              "            style=\"display:none;\">\n",
              "\n",
              "<svg xmlns=\"http://www.w3.org/2000/svg\" height=\"24px\"viewBox=\"0 0 24 24\"\n",
              "     width=\"24px\">\n",
              "    <g>\n",
              "        <path d=\"M19 3H5c-1.1 0-2 .9-2 2v14c0 1.1.9 2 2 2h14c1.1 0 2-.9 2-2V5c0-1.1-.9-2-2-2zM9 17H7v-7h2v7zm4 0h-2V7h2v10zm4 0h-2v-4h2v4z\"/>\n",
              "    </g>\n",
              "</svg>\n",
              "  </button>\n",
              "\n",
              "<style>\n",
              "  .colab-df-quickchart {\n",
              "      --bg-color: #E8F0FE;\n",
              "      --fill-color: #1967D2;\n",
              "      --hover-bg-color: #E2EBFA;\n",
              "      --hover-fill-color: #174EA6;\n",
              "      --disabled-fill-color: #AAA;\n",
              "      --disabled-bg-color: #DDD;\n",
              "  }\n",
              "\n",
              "  [theme=dark] .colab-df-quickchart {\n",
              "      --bg-color: #3B4455;\n",
              "      --fill-color: #D2E3FC;\n",
              "      --hover-bg-color: #434B5C;\n",
              "      --hover-fill-color: #FFFFFF;\n",
              "      --disabled-bg-color: #3B4455;\n",
              "      --disabled-fill-color: #666;\n",
              "  }\n",
              "\n",
              "  .colab-df-quickchart {\n",
              "    background-color: var(--bg-color);\n",
              "    border: none;\n",
              "    border-radius: 50%;\n",
              "    cursor: pointer;\n",
              "    display: none;\n",
              "    fill: var(--fill-color);\n",
              "    height: 32px;\n",
              "    padding: 0;\n",
              "    width: 32px;\n",
              "  }\n",
              "\n",
              "  .colab-df-quickchart:hover {\n",
              "    background-color: var(--hover-bg-color);\n",
              "    box-shadow: 0 1px 2px rgba(60, 64, 67, 0.3), 0 1px 3px 1px rgba(60, 64, 67, 0.15);\n",
              "    fill: var(--button-hover-fill-color);\n",
              "  }\n",
              "\n",
              "  .colab-df-quickchart-complete:disabled,\n",
              "  .colab-df-quickchart-complete:disabled:hover {\n",
              "    background-color: var(--disabled-bg-color);\n",
              "    fill: var(--disabled-fill-color);\n",
              "    box-shadow: none;\n",
              "  }\n",
              "\n",
              "  .colab-df-spinner {\n",
              "    border: 2px solid var(--fill-color);\n",
              "    border-color: transparent;\n",
              "    border-bottom-color: var(--fill-color);\n",
              "    animation:\n",
              "      spin 1s steps(1) infinite;\n",
              "  }\n",
              "\n",
              "  @keyframes spin {\n",
              "    0% {\n",
              "      border-color: transparent;\n",
              "      border-bottom-color: var(--fill-color);\n",
              "      border-left-color: var(--fill-color);\n",
              "    }\n",
              "    20% {\n",
              "      border-color: transparent;\n",
              "      border-left-color: var(--fill-color);\n",
              "      border-top-color: var(--fill-color);\n",
              "    }\n",
              "    30% {\n",
              "      border-color: transparent;\n",
              "      border-left-color: var(--fill-color);\n",
              "      border-top-color: var(--fill-color);\n",
              "      border-right-color: var(--fill-color);\n",
              "    }\n",
              "    40% {\n",
              "      border-color: transparent;\n",
              "      border-right-color: var(--fill-color);\n",
              "      border-top-color: var(--fill-color);\n",
              "    }\n",
              "    60% {\n",
              "      border-color: transparent;\n",
              "      border-right-color: var(--fill-color);\n",
              "    }\n",
              "    80% {\n",
              "      border-color: transparent;\n",
              "      border-right-color: var(--fill-color);\n",
              "      border-bottom-color: var(--fill-color);\n",
              "    }\n",
              "    90% {\n",
              "      border-color: transparent;\n",
              "      border-bottom-color: var(--fill-color);\n",
              "    }\n",
              "  }\n",
              "</style>\n",
              "\n",
              "  <script>\n",
              "    async function quickchart(key) {\n",
              "      const quickchartButtonEl =\n",
              "        document.querySelector('#' + key + ' button');\n",
              "      quickchartButtonEl.disabled = true;  // To prevent multiple clicks.\n",
              "      quickchartButtonEl.classList.add('colab-df-spinner');\n",
              "      try {\n",
              "        const charts = await google.colab.kernel.invokeFunction(\n",
              "            'suggestCharts', [key], {});\n",
              "      } catch (error) {\n",
              "        console.error('Error during call to suggestCharts:', error);\n",
              "      }\n",
              "      quickchartButtonEl.classList.remove('colab-df-spinner');\n",
              "      quickchartButtonEl.classList.add('colab-df-quickchart-complete');\n",
              "    }\n",
              "    (() => {\n",
              "      let quickchartButtonEl =\n",
              "        document.querySelector('#df-78796a04-bf90-43ba-8660-9ad0c4737261 button');\n",
              "      quickchartButtonEl.style.display =\n",
              "        google.colab.kernel.accessAllowed ? 'block' : 'none';\n",
              "    })();\n",
              "  </script>\n",
              "</div>\n",
              "    </div>\n",
              "  </div>\n"
            ],
            "application/vnd.google.colaboratory.intrinsic+json": {
              "type": "dataframe",
              "variable_name": "Xtrain",
              "summary": "{\n  \"name\": \"Xtrain\",\n  \"rows\": 7500,\n  \"fields\": [\n    {\n      \"column\": \"f1\",\n      \"properties\": {\n        \"dtype\": \"number\",\n        \"std\": 13,\n        \"min\": 17,\n        \"max\": 90,\n        \"num_unique_values\": 70,\n        \"samples\": [\n          59,\n          50,\n          63\n        ],\n        \"semantic_type\": \"\",\n        \"description\": \"\"\n      }\n    },\n    {\n      \"column\": \"f2\",\n      \"properties\": {\n        \"dtype\": \"number\",\n        \"std\": 76.19828185011917,\n        \"min\": 64.2590702793375,\n        \"max\": 575.3968253968253,\n        \"num_unique_values\": 8,\n        \"samples\": [\n          276.7710049423393,\n          114.41647597254,\n          218.5939300806761\n        ],\n        \"semantic_type\": \"\",\n        \"description\": \"\"\n      }\n    },\n    {\n      \"column\": \"f3\",\n      \"properties\": {\n        \"dtype\": \"number\",\n        \"std\": 105867,\n        \"min\": 19302,\n        \"max\": 1226583,\n        \"num_unique_values\": 6602,\n        \"samples\": [\n          136721,\n          88842,\n          176077\n        ],\n        \"semantic_type\": \"\",\n        \"description\": \"\"\n      }\n    },\n    {\n      \"column\": \"f4\",\n      \"properties\": {\n        \"dtype\": \"number\",\n        \"std\": 0.1517381753794747,\n        \"min\": 2.948307735566308e-05,\n        \"max\": 0.7293233082706767,\n        \"num_unique_values\": 16,\n        \"samples\": [\n          0.1045751633986928,\n          0.2246835443037974,\n          0.5463659147869674\n        ],\n        \"semantic_type\": \"\",\n        \"description\": \"\"\n      }\n    },\n    {\n      \"column\": \"f5\",\n      \"properties\": {\n        \"dtype\": \"number\",\n        \"std\": 2,\n        \"min\": 1,\n        \"max\": 16,\n        \"num_unique_values\": 16,\n        \"samples\": [\n          4,\n          11,\n          14\n        ],\n        \"semantic_type\": \"\",\n        \"description\": \"\"\n      }\n    },\n    {\n      \"column\": \"f6\",\n      \"properties\": {\n        \"dtype\": \"number\",\n        \"std\": 0.1902828890184031,\n        \"min\": 0.0491270807957775,\n        \"max\": 0.4450261780104712,\n        \"num_unique_values\": 7,\n        \"samples\": [\n          0.4450261780104712,\n          0.0491270807957775,\n          0.0736842105263157\n        ],\n        \"semantic_type\": \"\",\n        \"description\": \"\"\n      }\n    },\n    {\n      \"column\": \"f7\",\n      \"properties\": {\n        \"dtype\": \"number\",\n        \"std\": 0.14737107609801495,\n        \"min\": 0.0,\n        \"max\": 0.4822222222222222,\n        \"num_unique_values\": 15,\n        \"samples\": [\n          0.0,\n          0.3066037735849056,\n          0.2745314222712238\n        ],\n        \"semantic_type\": \"\",\n        \"description\": \"\"\n      }\n    },\n    {\n      \"column\": \"f8\",\n      \"properties\": {\n        \"dtype\": \"number\",\n        \"std\": 0.19336545220019763,\n        \"min\": 0.0094991364421416,\n        \"max\": 0.484375,\n        \"num_unique_values\": 6,\n        \"samples\": [\n          0.4443336656696577,\n          0.0094991364421416,\n          0.484375\n        ],\n        \"semantic_type\": \"\",\n        \"description\": \"\"\n      }\n    },\n    {\n      \"column\": \"f9\",\n      \"properties\": {\n        \"dtype\": \"number\",\n        \"std\": 4.451530117433344,\n        \"min\": 5.97014925373134,\n        \"max\": 25.606720597386428,\n        \"num_unique_values\": 5,\n        \"samples\": [\n          25.606720597386428,\n          10.29411764705882,\n          12.46498599439775\n        ],\n        \"semantic_type\": \"\",\n        \"description\": \"\"\n      }\n    },\n    {\n      \"column\": \"f10\",\n      \"properties\": {\n        \"dtype\": \"number\",\n        \"std\": 0.08770775718099966,\n        \"min\": 0.1135902636916835,\n        \"max\": 0.3002979145978153,\n        \"num_unique_values\": 2,\n        \"samples\": [\n          0.1135902636916835,\n          0.3002979145978153\n        ],\n        \"semantic_type\": \"\",\n        \"description\": \"\"\n      }\n    },\n    {\n      \"column\": \"f11\",\n      \"properties\": {\n        \"dtype\": \"number\",\n        \"std\": 7430.3447704314995,\n        \"min\": 0.0,\n        \"max\": 99999.0,\n        \"num_unique_values\": 95,\n        \"samples\": [\n          3456.0,\n          3942.0\n        ],\n        \"semantic_type\": \"\",\n        \"description\": \"\"\n      }\n    },\n    {\n      \"column\": \"f12\",\n      \"properties\": {\n        \"dtype\": \"number\",\n        \"std\": 404,\n        \"min\": 0,\n        \"max\": 4356,\n        \"num_unique_values\": 69,\n        \"samples\": [\n          2282,\n          0\n        ],\n        \"semantic_type\": \"\",\n        \"description\": \"\"\n      }\n    },\n    {\n      \"column\": \"f13\",\n      \"properties\": {\n        \"dtype\": \"number\",\n        \"std\": 12,\n        \"min\": 1,\n        \"max\": 99,\n        \"num_unique_values\": 82,\n        \"samples\": [\n          31,\n          49\n        ],\n        \"semantic_type\": \"\",\n        \"description\": \"\"\n      }\n    },\n    {\n      \"column\": \"f14\",\n      \"properties\": {\n        \"dtype\": \"number\",\n        \"std\": 0.04168480051512073,\n        \"min\": 8.012632450609848e-05,\n        \"max\": 0.4666664773000171,\n        \"num_unique_values\": 35,\n        \"samples\": [\n          0.2000000323741579,\n          0.0588235496804506\n        ],\n        \"semantic_type\": \"\",\n        \"description\": \"\"\n      }\n    },\n    {\n      \"column\": \"target\",\n      \"properties\": {\n        \"dtype\": \"number\",\n        \"std\": 0,\n        \"min\": 0,\n        \"max\": 1,\n        \"num_unique_values\": 2,\n        \"samples\": [\n          1,\n          0\n        ],\n        \"semantic_type\": \"\",\n        \"description\": \"\"\n      }\n    }\n  ]\n}"
            }
          },
          "metadata": {},
          "execution_count": 3
        }
      ],
      "source": [
        "Xtrain.head()\n"
      ]
    },
    {
      "cell_type": "code",
      "source": [
        "Xtrain['target'].value_counts()"
      ],
      "metadata": {
        "id": "6ZALV-d_zm6O",
        "colab": {
          "base_uri": "https://localhost:8080/",
          "height": 178
        },
        "outputId": "2fe492c0-ff34-4ebe-83d0-4bfc263943b6"
      },
      "execution_count": 4,
      "outputs": [
        {
          "output_type": "execute_result",
          "data": {
            "text/plain": [
              "target\n",
              "0    5708\n",
              "1    1792\n",
              "Name: count, dtype: int64"
            ],
            "text/html": [
              "<div>\n",
              "<style scoped>\n",
              "    .dataframe tbody tr th:only-of-type {\n",
              "        vertical-align: middle;\n",
              "    }\n",
              "\n",
              "    .dataframe tbody tr th {\n",
              "        vertical-align: top;\n",
              "    }\n",
              "\n",
              "    .dataframe thead th {\n",
              "        text-align: right;\n",
              "    }\n",
              "</style>\n",
              "<table border=\"1\" class=\"dataframe\">\n",
              "  <thead>\n",
              "    <tr style=\"text-align: right;\">\n",
              "      <th></th>\n",
              "      <th>count</th>\n",
              "    </tr>\n",
              "    <tr>\n",
              "      <th>target</th>\n",
              "      <th></th>\n",
              "    </tr>\n",
              "  </thead>\n",
              "  <tbody>\n",
              "    <tr>\n",
              "      <th>0</th>\n",
              "      <td>5708</td>\n",
              "    </tr>\n",
              "    <tr>\n",
              "      <th>1</th>\n",
              "      <td>1792</td>\n",
              "    </tr>\n",
              "  </tbody>\n",
              "</table>\n",
              "</div><br><label><b>dtype:</b> int64</label>"
            ]
          },
          "metadata": {},
          "execution_count": 4
        }
      ]
    },
    {
      "source": [
        "# @title target\n",
        "\n",
        "from matplotlib import pyplot as plt\n",
        "Xtrain['target'].plot(kind='hist', bins=20, title='target')\n",
        "plt.gca().spines[['top', 'right',]].set_visible(False)"
      ],
      "cell_type": "code",
      "execution_count": 5,
      "outputs": [
        {
          "output_type": "display_data",
          "data": {
            "text/plain": [
              "<Figure size 640x480 with 1 Axes>"
            ],
            "image/png": "[encoded data removed]"
          },
          "metadata": {}
        }
      ],
      "metadata": {
        "id": "tV9ZWqbCzXB6",
        "colab": {
          "base_uri": "https://localhost:8080/",
          "height": 452
        },
        "outputId": "947cbed3-4911-4e8f-96b1-332108bc39d1"
      }
    },
    {
      "cell_type": "markdown",
      "source": [
        "Видим дисбаланс в целевой переменной"
      ],
      "metadata": {
        "id": "xQSbt3F8zgzj"
      }
    },
    {
      "cell_type": "code",
      "source": [
        "Xtrain.info()"
      ],
      "metadata": {
        "id": "weLSyDkwylzP",
        "colab": {
          "base_uri": "https://localhost:8080/"
        },
        "outputId": "4cfbf80f-8af4-468e-ee72-950033ad2505"
      },
      "execution_count": 6,
      "outputs": [
        {
          "output_type": "stream",
          "name": "stdout",
          "text": [
            "<class 'pandas.core.frame.DataFrame'>\n",
            "RangeIndex: 7500 entries, 0 to 7499\n",
            "Data columns (total 15 columns):\n",
            " #   Column  Non-Null Count  Dtype  \n",
            "---  ------  --------------  -----  \n",
            " 0   f1      7500 non-null   int64  \n",
            " 1   f2      7425 non-null   float64\n",
            " 2   f3      7500 non-null   int64  \n",
            " 3   f4      7500 non-null   float64\n",
            " 4   f5      7500 non-null   int64  \n",
            " 5   f6      7500 non-null   float64\n",
            " 6   f7      5625 non-null   float64\n",
            " 7   f8      7500 non-null   float64\n",
            " 8   f9      7500 non-null   float64\n",
            " 9   f10     7500 non-null   float64\n",
            " 10  f11     7490 non-null   float64\n",
            " 11  f12     7500 non-null   int64  \n",
            " 12  f13     7500 non-null   int64  \n",
            " 13  f14     7500 non-null   float64\n",
            " 14  target  7500 non-null   int64  \n",
            "dtypes: float64(9), int64(6)\n",
            "memory usage: 879.0 KB\n"
          ]
        }
      ]
    },
    {
      "cell_type": "markdown",
      "source": [
        "Видим пропущенные значения по признаку f7, но обрезать выборку не будем. Заполним пропуски по методу интерполяции, f2, f11 - то же самое"
      ],
      "metadata": {
        "id": "AjV9C13u3qE_"
      }
    },
    {
      "cell_type": "code",
      "source": [
        "Xtrain['f7'] =Xtrain['f7'].interpolate(method='linear', limit_direction='forward')\n",
        "Xtrain['f2'] =Xtrain['f2'].interpolate(method='linear', limit_direction='forward')\n",
        "Xtrain['f11'] =Xtrain['f11'].interpolate(method='linear', limit_direction='forward')"
      ],
      "metadata": {
        "id": "Zzbi2D_K9eRW"
      },
      "execution_count": 7,
      "outputs": []
    },
    {
      "cell_type": "code",
      "source": [
        "Xtrain.describe().T.style.background_gradient(cmap='YlOrRd')"
      ],
      "metadata": {
        "id": "ZEYJPKCPy7Z6",
        "colab": {
          "base_uri": "https://localhost:8080/",
          "height": 540
        },
        "outputId": "5d06d64b-6b48-4720-dadf-5702d20436a0"
      },
      "execution_count": 8,
      "outputs": [
        {
          "output_type": "execute_result",
          "data": {
            "text/plain": [
              "<pandas.io.formats.style.Styler at 0x799035a24340>"
            ],
            "text/html": [
              "<style type=\"text/css\">\n",
              "#T_35b70_row0_col0, #T_35b70_row0_col1, #T_35b70_row0_col2, #T_35b70_row0_col3, #T_35b70_row0_col4, #T_35b70_row0_col5, #T_35b70_row0_col6, #T_35b70_row0_col7, #T_35b70_row1_col0, #T_35b70_row1_col1, #T_35b70_row1_col2, #T_35b70_row1_col3, #T_35b70_row1_col4, #T_35b70_row1_col5, #T_35b70_row1_col6, #T_35b70_row1_col7, #T_35b70_row2_col0, #T_35b70_row3_col0, #T_35b70_row3_col1, #T_35b70_row3_col2, #T_35b70_row3_col3, #T_35b70_row3_col4, #T_35b70_row3_col5, #T_35b70_row3_col6, #T_35b70_row3_col7, #T_35b70_row4_col0, #T_35b70_row4_col1, #T_35b70_row4_col2, #T_35b70_row4_col3, #T_35b70_row4_col4, #T_35b70_row4_col5, #T_35b70_row4_col6, #T_35b70_row4_col7, #T_35b70_row5_col0, #T_35b70_row5_col1, #T_35b70_row5_col2, #T_35b70_row5_col3, #T_35b70_row5_col4, #T_35b70_row5_col5, #T_35b70_row5_col6, #T_35b70_row5_col7, #T_35b70_row6_col0, #T_35b70_row6_col1, #T_35b70_row6_col2, #T_35b70_row6_col3, #T_35b70_row6_col4, #T_35b70_row6_col5, #T_35b70_row6_col6, #T_35b70_row6_col7, #T_35b70_row7_col0, #T_35b70_row7_col1, #T_35b70_row7_col2, #T_35b70_row7_col3, #T_35b70_row7_col4, #T_35b70_row7_col5, #T_35b70_row7_col6, #T_35b70_row7_col7, #T_35b70_row8_col0, #T_35b70_row8_col1, #T_35b70_row8_col2, #T_35b70_row8_col3, #T_35b70_row8_col4, #T_35b70_row8_col5, #T_35b70_row8_col6, #T_35b70_row8_col7, #T_35b70_row9_col0, #T_35b70_row9_col1, #T_35b70_row9_col2, #T_35b70_row9_col3, #T_35b70_row9_col4, #T_35b70_row9_col5, #T_35b70_row9_col6, #T_35b70_row9_col7, #T_35b70_row10_col0, #T_35b70_row10_col3, #T_35b70_row10_col4, #T_35b70_row10_col5, #T_35b70_row10_col6, #T_35b70_row11_col0, #T_35b70_row11_col1, #T_35b70_row11_col2, #T_35b70_row11_col3, #T_35b70_row11_col4, #T_35b70_row11_col5, #T_35b70_row11_col6, #T_35b70_row11_col7, #T_35b70_row12_col0, #T_35b70_row12_col1, #T_35b70_row12_col2, #T_35b70_row12_col3, #T_35b70_row12_col4, #T_35b70_row12_col5, #T_35b70_row12_col6, #T_35b70_row12_col7, #T_35b70_row13_col0, #T_35b70_row13_col1, #T_35b70_row13_col2, #T_35b70_row13_col3, #T_35b70_row13_col4, #T_35b70_row13_col5, #T_35b70_row13_col6, #T_35b70_row13_col7, #T_35b70_row14_col0, #T_35b70_row14_col1, #T_35b70_row14_col2, #T_35b70_row14_col3, #T_35b70_row14_col4, #T_35b70_row14_col5, #T_35b70_row14_col6, #T_35b70_row14_col7 {\n",
              "  background-color: #ffffcc;\n",
              "  color: #000000;\n",
              "}\n",
              "#T_35b70_row2_col1, #T_35b70_row2_col2, #T_35b70_row2_col3, #T_35b70_row2_col4, #T_35b70_row2_col5, #T_35b70_row2_col6, #T_35b70_row2_col7 {\n",
              "  background-color: #800026;\n",
              "  color: #f1f1f1;\n",
              "}\n",
              "#T_35b70_row10_col1 {\n",
              "  background-color: #fffecb;\n",
              "  color: #000000;\n",
              "}\n",
              "#T_35b70_row10_col2 {\n",
              "  background-color: #fff5b5;\n",
              "  color: #000000;\n",
              "}\n",
              "#T_35b70_row10_col7 {\n",
              "  background-color: #fff4b0;\n",
              "  color: #000000;\n",
              "}\n",
              "</style>\n",
              "<table id=\"T_35b70\" class=\"dataframe\">\n",
              "  <thead>\n",
              "    <tr>\n",
              "      <th class=\"blank level0\" >&nbsp;</th>\n",
              "      <th id=\"T_35b70_level0_col0\" class=\"col_heading level0 col0\" >count</th>\n",
              "      <th id=\"T_35b70_level0_col1\" class=\"col_heading level0 col1\" >mean</th>\n",
              "      <th id=\"T_35b70_level0_col2\" class=\"col_heading level0 col2\" >std</th>\n",
              "      <th id=\"T_35b70_level0_col3\" class=\"col_heading level0 col3\" >min</th>\n",
              "      <th id=\"T_35b70_level0_col4\" class=\"col_heading level0 col4\" >25%</th>\n",
              "      <th id=\"T_35b70_level0_col5\" class=\"col_heading level0 col5\" >50%</th>\n",
              "      <th id=\"T_35b70_level0_col6\" class=\"col_heading level0 col6\" >75%</th>\n",
              "      <th id=\"T_35b70_level0_col7\" class=\"col_heading level0 col7\" >max</th>\n",
              "    </tr>\n",
              "  </thead>\n",
              "  <tbody>\n",
              "    <tr>\n",
              "      <th id=\"T_35b70_level0_row0\" class=\"row_heading level0 row0\" >f1</th>\n",
              "      <td id=\"T_35b70_row0_col0\" class=\"data row0 col0\" >7500.000000</td>\n",
              "      <td id=\"T_35b70_row0_col1\" class=\"data row0 col1\" >38.579600</td>\n",
              "      <td id=\"T_35b70_row0_col2\" class=\"data row0 col2\" >13.647719</td>\n",
              "      <td id=\"T_35b70_row0_col3\" class=\"data row0 col3\" >17.000000</td>\n",
              "      <td id=\"T_35b70_row0_col4\" class=\"data row0 col4\" >28.000000</td>\n",
              "      <td id=\"T_35b70_row0_col5\" class=\"data row0 col5\" >37.000000</td>\n",
              "      <td id=\"T_35b70_row0_col6\" class=\"data row0 col6\" >47.000000</td>\n",
              "      <td id=\"T_35b70_row0_col7\" class=\"data row0 col7\" >90.000000</td>\n",
              "    </tr>\n",
              "    <tr>\n",
              "      <th id=\"T_35b70_level0_row1\" class=\"row_heading level0 row1\" >f2</th>\n",
              "      <td id=\"T_35b70_row1_col0\" class=\"data row1 col0\" >7500.000000</td>\n",
              "      <td id=\"T_35b70_row1_col1\" class=\"data row1 col1\" >238.869293</td>\n",
              "      <td id=\"T_35b70_row1_col2\" class=\"data row1 col2\" >75.984770</td>\n",
              "      <td id=\"T_35b70_row1_col3\" class=\"data row1 col3\" >64.259070</td>\n",
              "      <td id=\"T_35b70_row1_col4\" class=\"data row1 col4\" >218.593930</td>\n",
              "      <td id=\"T_35b70_row1_col5\" class=\"data row1 col5\" >218.593930</td>\n",
              "      <td id=\"T_35b70_row1_col6\" class=\"data row1 col6\" >218.593930</td>\n",
              "      <td id=\"T_35b70_row1_col7\" class=\"data row1 col7\" >575.396825</td>\n",
              "    </tr>\n",
              "    <tr>\n",
              "      <th id=\"T_35b70_level0_row2\" class=\"row_heading level0 row2\" >f3</th>\n",
              "      <td id=\"T_35b70_row2_col0\" class=\"data row2 col0\" >7500.000000</td>\n",
              "      <td id=\"T_35b70_row2_col1\" class=\"data row2 col1\" >190384.986800</td>\n",
              "      <td id=\"T_35b70_row2_col2\" class=\"data row2 col2\" >105867.442524</td>\n",
              "      <td id=\"T_35b70_row2_col3\" class=\"data row2 col3\" >19302.000000</td>\n",
              "      <td id=\"T_35b70_row2_col4\" class=\"data row2 col4\" >118019.000000</td>\n",
              "      <td id=\"T_35b70_row2_col5\" class=\"data row2 col5\" >179568.500000</td>\n",
              "      <td id=\"T_35b70_row2_col6\" class=\"data row2 col6\" >239441.750000</td>\n",
              "      <td id=\"T_35b70_row2_col7\" class=\"data row2 col7\" >1226583.000000</td>\n",
              "    </tr>\n",
              "    <tr>\n",
              "      <th id=\"T_35b70_level0_row3\" class=\"row_heading level0 row3\" >f4</th>\n",
              "      <td id=\"T_35b70_row3_col0\" class=\"data row3 col0\" >7500.000000</td>\n",
              "      <td id=\"T_35b70_row3_col1\" class=\"data row3 col1\" >0.238933</td>\n",
              "      <td id=\"T_35b70_row3_col2\" class=\"data row3 col2\" >0.151738</td>\n",
              "      <td id=\"T_35b70_row3_col3\" class=\"data row3 col3\" >0.000029</td>\n",
              "      <td id=\"T_35b70_row3_col4\" class=\"data row3 col4\" >0.171817</td>\n",
              "      <td id=\"T_35b70_row3_col5\" class=\"data row3 col5\" >0.179322</td>\n",
              "      <td id=\"T_35b70_row3_col6\" class=\"data row3 col6\" >0.239316</td>\n",
              "      <td id=\"T_35b70_row3_col7\" class=\"data row3 col7\" >0.729323</td>\n",
              "    </tr>\n",
              "    <tr>\n",
              "      <th id=\"T_35b70_level0_row4\" class=\"row_heading level0 row4\" >f5</th>\n",
              "      <td id=\"T_35b70_row4_col0\" class=\"data row4 col0\" >7500.000000</td>\n",
              "      <td id=\"T_35b70_row4_col1\" class=\"data row4 col1\" >10.083200</td>\n",
              "      <td id=\"T_35b70_row4_col2\" class=\"data row4 col2\" >2.546071</td>\n",
              "      <td id=\"T_35b70_row4_col3\" class=\"data row4 col3\" >1.000000</td>\n",
              "      <td id=\"T_35b70_row4_col4\" class=\"data row4 col4\" >9.000000</td>\n",
              "      <td id=\"T_35b70_row4_col5\" class=\"data row4 col5\" >10.000000</td>\n",
              "      <td id=\"T_35b70_row4_col6\" class=\"data row4 col6\" >12.000000</td>\n",
              "      <td id=\"T_35b70_row4_col7\" class=\"data row4 col7\" >16.000000</td>\n",
              "    </tr>\n",
              "    <tr>\n",
              "      <th id=\"T_35b70_level0_row5\" class=\"row_heading level0 row5\" >f6</th>\n",
              "      <td id=\"T_35b70_row5_col0\" class=\"data row5 col0\" >7500.000000</td>\n",
              "      <td id=\"T_35b70_row5_col1\" class=\"data row5 col1\" >0.238934</td>\n",
              "      <td id=\"T_35b70_row5_col2\" class=\"data row5 col2\" >0.190283</td>\n",
              "      <td id=\"T_35b70_row5_col3\" class=\"data row5 col3\" >0.049127</td>\n",
              "      <td id=\"T_35b70_row5_col4\" class=\"data row5 col4\" >0.049127</td>\n",
              "      <td id=\"T_35b70_row5_col5\" class=\"data row5 col5\" >0.098837</td>\n",
              "      <td id=\"T_35b70_row5_col6\" class=\"data row5 col6\" >0.445026</td>\n",
              "      <td id=\"T_35b70_row5_col7\" class=\"data row5 col7\" >0.445026</td>\n",
              "    </tr>\n",
              "    <tr>\n",
              "      <th id=\"T_35b70_level0_row6\" class=\"row_heading level0 row6\" >f7</th>\n",
              "      <td id=\"T_35b70_row6_col0\" class=\"data row6 col0\" >7500.000000</td>\n",
              "      <td id=\"T_35b70_row6_col1\" class=\"data row6 col1\" >0.241921</td>\n",
              "      <td id=\"T_35b70_row6_col2\" class=\"data row6 col2\" >0.138375</td>\n",
              "      <td id=\"T_35b70_row6_col3\" class=\"data row6 col3\" >0.000000</td>\n",
              "      <td id=\"T_35b70_row6_col4\" class=\"data row6 col4\" >0.115721</td>\n",
              "      <td id=\"T_35b70_row6_col5\" class=\"data row6 col5\" >0.241573</td>\n",
              "      <td id=\"T_35b70_row6_col6\" class=\"data row6 col6\" >0.323043</td>\n",
              "      <td id=\"T_35b70_row6_col7\" class=\"data row6 col7\" >0.482222</td>\n",
              "    </tr>\n",
              "    <tr>\n",
              "      <th id=\"T_35b70_level0_row7\" class=\"row_heading level0 row7\" >f8</th>\n",
              "      <td id=\"T_35b70_row7_col0\" class=\"data row7 col0\" >7500.000000</td>\n",
              "      <td id=\"T_35b70_row7_col1\" class=\"data row7 col1\" >0.238933</td>\n",
              "      <td id=\"T_35b70_row7_col2\" class=\"data row7 col2\" >0.193365</td>\n",
              "      <td id=\"T_35b70_row7_col3\" class=\"data row7 col3\" >0.009499</td>\n",
              "      <td id=\"T_35b70_row7_col4\" class=\"data row7 col4\" >0.066581</td>\n",
              "      <td id=\"T_35b70_row7_col5\" class=\"data row7 col5\" >0.103024</td>\n",
              "      <td id=\"T_35b70_row7_col6\" class=\"data row7 col6\" >0.444334</td>\n",
              "      <td id=\"T_35b70_row7_col7\" class=\"data row7 col7\" >0.484375</td>\n",
              "    </tr>\n",
              "    <tr>\n",
              "      <th id=\"T_35b70_level0_row8\" class=\"row_heading level0 row8\" >f9</th>\n",
              "      <td id=\"T_35b70_row8_col0\" class=\"data row8 col0\" >7500.000000</td>\n",
              "      <td id=\"T_35b70_row8_col1\" class=\"data row8 col1\" >23.893333</td>\n",
              "      <td id=\"T_35b70_row8_col2\" class=\"data row8 col2\" >4.451530</td>\n",
              "      <td id=\"T_35b70_row8_col3\" class=\"data row8 col3\" >5.970149</td>\n",
              "      <td id=\"T_35b70_row8_col4\" class=\"data row8 col4\" >25.606721</td>\n",
              "      <td id=\"T_35b70_row8_col5\" class=\"data row8 col5\" >25.606721</td>\n",
              "      <td id=\"T_35b70_row8_col6\" class=\"data row8 col6\" >25.606721</td>\n",
              "      <td id=\"T_35b70_row8_col7\" class=\"data row8 col7\" >25.606721</td>\n",
              "    </tr>\n",
              "    <tr>\n",
              "      <th id=\"T_35b70_level0_row9\" class=\"row_heading level0 row9\" >f10</th>\n",
              "      <td id=\"T_35b70_row9_col0\" class=\"data row9 col0\" >7500.000000</td>\n",
              "      <td id=\"T_35b70_row9_col1\" class=\"data row9 col1\" >0.238933</td>\n",
              "      <td id=\"T_35b70_row9_col2\" class=\"data row9 col2\" >0.087708</td>\n",
              "      <td id=\"T_35b70_row9_col3\" class=\"data row9 col3\" >0.113590</td>\n",
              "      <td id=\"T_35b70_row9_col4\" class=\"data row9 col4\" >0.113590</td>\n",
              "      <td id=\"T_35b70_row9_col5\" class=\"data row9 col5\" >0.300298</td>\n",
              "      <td id=\"T_35b70_row9_col6\" class=\"data row9 col6\" >0.300298</td>\n",
              "      <td id=\"T_35b70_row9_col7\" class=\"data row9 col7\" >0.300298</td>\n",
              "    </tr>\n",
              "    <tr>\n",
              "      <th id=\"T_35b70_level0_row10\" class=\"row_heading level0 row10\" >f11</th>\n",
              "      <td id=\"T_35b70_row10_col0\" class=\"data row10 col0\" >7500.000000</td>\n",
              "      <td id=\"T_35b70_row10_col1\" class=\"data row10 col1\" >1068.757200</td>\n",
              "      <td id=\"T_35b70_row10_col2\" class=\"data row10 col2\" >7425.903495</td>\n",
              "      <td id=\"T_35b70_row10_col3\" class=\"data row10 col3\" >0.000000</td>\n",
              "      <td id=\"T_35b70_row10_col4\" class=\"data row10 col4\" >0.000000</td>\n",
              "      <td id=\"T_35b70_row10_col5\" class=\"data row10 col5\" >0.000000</td>\n",
              "      <td id=\"T_35b70_row10_col6\" class=\"data row10 col6\" >0.000000</td>\n",
              "      <td id=\"T_35b70_row10_col7\" class=\"data row10 col7\" >99999.000000</td>\n",
              "    </tr>\n",
              "    <tr>\n",
              "      <th id=\"T_35b70_level0_row11\" class=\"row_heading level0 row11\" >f12</th>\n",
              "      <td id=\"T_35b70_row11_col0\" class=\"data row11 col0\" >7500.000000</td>\n",
              "      <td id=\"T_35b70_row11_col1\" class=\"data row11 col1\" >88.974933</td>\n",
              "      <td id=\"T_35b70_row11_col2\" class=\"data row11 col2\" >404.517032</td>\n",
              "      <td id=\"T_35b70_row11_col3\" class=\"data row11 col3\" >0.000000</td>\n",
              "      <td id=\"T_35b70_row11_col4\" class=\"data row11 col4\" >0.000000</td>\n",
              "      <td id=\"T_35b70_row11_col5\" class=\"data row11 col5\" >0.000000</td>\n",
              "      <td id=\"T_35b70_row11_col6\" class=\"data row11 col6\" >0.000000</td>\n",
              "      <td id=\"T_35b70_row11_col7\" class=\"data row11 col7\" >4356.000000</td>\n",
              "    </tr>\n",
              "    <tr>\n",
              "      <th id=\"T_35b70_level0_row12\" class=\"row_heading level0 row12\" >f13</th>\n",
              "      <td id=\"T_35b70_row12_col0\" class=\"data row12 col0\" >7500.000000</td>\n",
              "      <td id=\"T_35b70_row12_col1\" class=\"data row12 col1\" >40.670800</td>\n",
              "      <td id=\"T_35b70_row12_col2\" class=\"data row12 col2\" >12.330051</td>\n",
              "      <td id=\"T_35b70_row12_col3\" class=\"data row12 col3\" >1.000000</td>\n",
              "      <td id=\"T_35b70_row12_col4\" class=\"data row12 col4\" >40.000000</td>\n",
              "      <td id=\"T_35b70_row12_col5\" class=\"data row12 col5\" >40.000000</td>\n",
              "      <td id=\"T_35b70_row12_col6\" class=\"data row12 col6\" >45.000000</td>\n",
              "      <td id=\"T_35b70_row12_col7\" class=\"data row12 col7\" >99.000000</td>\n",
              "    </tr>\n",
              "    <tr>\n",
              "      <th id=\"T_35b70_level0_row13\" class=\"row_heading level0 row13\" >f14</th>\n",
              "      <td id=\"T_35b70_row13_col0\" class=\"data row13 col0\" >7500.000000</td>\n",
              "      <td id=\"T_35b70_row13_col1\" class=\"data row13 col1\" >0.238955</td>\n",
              "      <td id=\"T_35b70_row13_col2\" class=\"data row13 col2\" >0.041685</td>\n",
              "      <td id=\"T_35b70_row13_col3\" class=\"data row13 col3\" >0.000080</td>\n",
              "      <td id=\"T_35b70_row13_col4\" class=\"data row13 col4\" >0.244418</td>\n",
              "      <td id=\"T_35b70_row13_col5\" class=\"data row13 col5\" >0.244418</td>\n",
              "      <td id=\"T_35b70_row13_col6\" class=\"data row13 col6\" >0.244418</td>\n",
              "      <td id=\"T_35b70_row13_col7\" class=\"data row13 col7\" >0.466666</td>\n",
              "    </tr>\n",
              "    <tr>\n",
              "      <th id=\"T_35b70_level0_row14\" class=\"row_heading level0 row14\" >target</th>\n",
              "      <td id=\"T_35b70_row14_col0\" class=\"data row14 col0\" >7500.000000</td>\n",
              "      <td id=\"T_35b70_row14_col1\" class=\"data row14 col1\" >0.238933</td>\n",
              "      <td id=\"T_35b70_row14_col2\" class=\"data row14 col2\" >0.426460</td>\n",
              "      <td id=\"T_35b70_row14_col3\" class=\"data row14 col3\" >0.000000</td>\n",
              "      <td id=\"T_35b70_row14_col4\" class=\"data row14 col4\" >0.000000</td>\n",
              "      <td id=\"T_35b70_row14_col5\" class=\"data row14 col5\" >0.000000</td>\n",
              "      <td id=\"T_35b70_row14_col6\" class=\"data row14 col6\" >0.000000</td>\n",
              "      <td id=\"T_35b70_row14_col7\" class=\"data row14 col7\" >1.000000</td>\n",
              "    </tr>\n",
              "  </tbody>\n",
              "</table>\n"
            ]
          },
          "metadata": {},
          "execution_count": 8
        }
      ]
    },
    {
      "cell_type": "code",
      "source": [
        "# @title f4 vs f5\n",
        "\n",
        "from matplotlib import pyplot as plt\n",
        "Xtrain.plot(kind='scatter', x='f4', y='f5', s=32, alpha=.8)\n",
        "plt.gca().spines[['top', 'right',]].set_visible(False)"
      ],
      "metadata": {
        "id": "yl-QASS74Wim",
        "colab": {
          "base_uri": "https://localhost:8080/",
          "height": 449
        },
        "outputId": "e18e197b-03e6-44ba-80d4-2de5f5e6b910"
      },
      "execution_count": 9,
      "outputs": [
        {
          "output_type": "display_data",
          "data": {
            "text/plain": [
              "<Figure size 640x480 with 1 Axes>"
            ],
            "image/png": "[encoded data removed]"
          },
          "metadata": {}
        }
      ]
    },
    {
      "cell_type": "code",
      "source": [
        "# @title f6 vs f8\n",
        "\n",
        "\n",
        "Xtrain.plot(kind='scatter', x='f6', y='f8', s=32, alpha=.8)\n",
        "plt.gca().spines[['top', 'right',]].set_visible(False)"
      ],
      "metadata": {
        "id": "7kK_9boe4dpr",
        "colab": {
          "base_uri": "https://localhost:8080/",
          "height": 449
        },
        "outputId": "bff7339e-549d-40d5-981c-0c5bc47f3265"
      },
      "execution_count": 10,
      "outputs": [
        {
          "output_type": "display_data",
          "data": {
            "text/plain": [
              "<Figure size 640x480 with 1 Axes>"
            ],
            "image/png": "[encoded data removed]"
          },
          "metadata": {}
        }
      ]
    },
    {
      "cell_type": "code",
      "source": [
        "correlation_matrix = Xtrain.corr()\n",
        "mask = np.triu(np.ones_like(correlation_matrix, dtype=bool))\n",
        "\n",
        "plt.figure(figsize=(12, 8))\n",
        "sns.heatmap(correlation_matrix, annot=True, mask=mask, cmap='coolwarm', vmax=1, vmin=-1, center=0,\n",
        "            square=True, linewidths=.5, annot_kws={\"size\": 10},\n",
        "            cbar_kws={\"shrink\": 0.8, \"orientation\": \"vertical\", \"ticks\": [-1, -0.5, 0, 0.5, 1]})\n",
        "plt.title('Матрица корреляций между числовыми переменными')\n",
        "plt.show()"
      ],
      "metadata": {
        "id": "BJvwTYjX0UhJ",
        "colab": {
          "base_uri": "https://localhost:8080/",
          "height": 699
        },
        "outputId": "d06c92c5-724b-466c-cc4b-2724fd80a4b3"
      },
      "execution_count": 11,
      "outputs": [
        {
          "output_type": "display_data",
          "data": {
            "text/plain": [
              "<Figure size 1200x800 with 2 Axes>"
            ],
            "image/png": "[encoded data removed]"
          },
          "metadata": {}
        }
      ]
    },
    {
      "cell_type": "markdown",
      "source": [
        "Видим высокую корреляцию f6 и f8 а также f5 и f4"
      ],
      "metadata": {
        "id": "muLg1dfN1POt"
      }
    },
    {
      "cell_type": "markdown",
      "source": [
        "**Исследуем набор Xtest**"
      ],
      "metadata": {
        "id": "8VW1iMuJ2uSP"
      }
    },
    {
      "cell_type": "code",
      "source": [
        "Xtest.head()"
      ],
      "metadata": {
        "id": "Xw1GognVyElr",
        "colab": {
          "base_uri": "https://localhost:8080/",
          "height": 226
        },
        "outputId": "ab7e7f6a-8100-464d-841f-952ec96a3c7c"
      },
      "execution_count": 12,
      "outputs": [
        {
          "output_type": "execute_result",
          "data": {
            "text/plain": [
              "   f1          f2      f3        f4  f5        f6        f7        f8  \\\n",
              "0  31  238.933333   47296  0.238933  10  0.238933  0.238933  0.238933   \n",
              "1  24  238.933333   33088  0.238933   7  0.238933  0.238933  0.238933   \n",
              "2  18  238.933333  283342  0.238933   7  0.238933  0.238933  0.238933   \n",
              "3  19  238.933333  393712  0.238933   9  0.238933  0.238933  0.238933   \n",
              "4  28  238.933333  200515  0.238933  10  0.238933  0.238933  0.238933   \n",
              "\n",
              "          f9       f10  f11   f12  f13       f14  target  \n",
              "0  23.893333  0.238933    0  1740   20  0.238933       0  \n",
              "1  23.893333  0.238933    0     0   40  0.238933       0  \n",
              "2  23.893333  0.238933    0     0   20  0.238933       0  \n",
              "3  23.893333  0.238933    0     0   20  0.238933       0  \n",
              "4  23.893333  0.238933    0     0   40  0.238933       0  "
            ],
            "text/html": [
              "\n",
              "  <div id=\"df-4be05347-cc78-4b5f-aeb2-5a3f4d152ae5\" class=\"colab-df-container\">\n",
              "    <div>\n",
              "<style scoped>\n",
              "    .dataframe tbody tr th:only-of-type {\n",
              "        vertical-align: middle;\n",
              "    }\n",
              "\n",
              "    .dataframe tbody tr th {\n",
              "        vertical-align: top;\n",
              "    }\n",
              "\n",
              "    .dataframe thead th {\n",
              "        text-align: right;\n",
              "    }\n",
              "</style>\n",
              "<table border=\"1\" class=\"dataframe\">\n",
              "  <thead>\n",
              "    <tr style=\"text-align: right;\">\n",
              "      <th></th>\n",
              "      <th>f1</th>\n",
              "      <th>f2</th>\n",
              "      <th>f3</th>\n",
              "      <th>f4</th>\n",
              "      <th>f5</th>\n",
              "      <th>f6</th>\n",
              "      <th>f7</th>\n",
              "      <th>f8</th>\n",
              "      <th>f9</th>\n",
              "      <th>f10</th>\n",
              "      <th>f11</th>\n",
              "      <th>f12</th>\n",
              "      <th>f13</th>\n",
              "      <th>f14</th>\n",
              "      <th>target</th>\n",
              "    </tr>\n",
              "  </thead>\n",
              "  <tbody>\n",
              "    <tr>\n",
              "      <th>0</th>\n",
              "      <td>31</td>\n",
              "      <td>238.933333</td>\n",
              "      <td>47296</td>\n",
              "      <td>0.238933</td>\n",
              "      <td>10</td>\n",
              "      <td>0.238933</td>\n",
              "      <td>0.238933</td>\n",
              "      <td>0.238933</td>\n",
              "      <td>23.893333</td>\n",
              "      <td>0.238933</td>\n",
              "      <td>0</td>\n",
              "      <td>1740</td>\n",
              "      <td>20</td>\n",
              "      <td>0.238933</td>\n",
              "      <td>0</td>\n",
              "    </tr>\n",
              "    <tr>\n",
              "      <th>1</th>\n",
              "      <td>24</td>\n",
              "      <td>238.933333</td>\n",
              "      <td>33088</td>\n",
              "      <td>0.238933</td>\n",
              "      <td>7</td>\n",
              "      <td>0.238933</td>\n",
              "      <td>0.238933</td>\n",
              "      <td>0.238933</td>\n",
              "      <td>23.893333</td>\n",
              "      <td>0.238933</td>\n",
              "      <td>0</td>\n",
              "      <td>0</td>\n",
              "      <td>40</td>\n",
              "      <td>0.238933</td>\n",
              "      <td>0</td>\n",
              "    </tr>\n",
              "    <tr>\n",
              "      <th>2</th>\n",
              "      <td>18</td>\n",
              "      <td>238.933333</td>\n",
              "      <td>283342</td>\n",
              "      <td>0.238933</td>\n",
              "      <td>7</td>\n",
              "      <td>0.238933</td>\n",
              "      <td>0.238933</td>\n",
              "      <td>0.238933</td>\n",
              "      <td>23.893333</td>\n",
              "      <td>0.238933</td>\n",
              "      <td>0</td>\n",
              "      <td>0</td>\n",
              "      <td>20</td>\n",
              "      <td>0.238933</td>\n",
              "      <td>0</td>\n",
              "    </tr>\n",
              "    <tr>\n",
              "      <th>3</th>\n",
              "      <td>19</td>\n",
              "      <td>238.933333</td>\n",
              "      <td>393712</td>\n",
              "      <td>0.238933</td>\n",
              "      <td>9</td>\n",
              "      <td>0.238933</td>\n",
              "      <td>0.238933</td>\n",
              "      <td>0.238933</td>\n",
              "      <td>23.893333</td>\n",
              "      <td>0.238933</td>\n",
              "      <td>0</td>\n",
              "      <td>0</td>\n",
              "      <td>20</td>\n",
              "      <td>0.238933</td>\n",
              "      <td>0</td>\n",
              "    </tr>\n",
              "    <tr>\n",
              "      <th>4</th>\n",
              "      <td>28</td>\n",
              "      <td>238.933333</td>\n",
              "      <td>200515</td>\n",
              "      <td>0.238933</td>\n",
              "      <td>10</td>\n",
              "      <td>0.238933</td>\n",
              "      <td>0.238933</td>\n",
              "      <td>0.238933</td>\n",
              "      <td>23.893333</td>\n",
              "      <td>0.238933</td>\n",
              "      <td>0</td>\n",
              "      <td>0</td>\n",
              "      <td>40</td>\n",
              "      <td>0.238933</td>\n",
              "      <td>0</td>\n",
              "    </tr>\n",
              "  </tbody>\n",
              "</table>\n",
              "</div>\n",
              "    <div class=\"colab-df-buttons\">\n",
              "\n",
              "  <div class=\"colab-df-container\">\n",
              "    <button class=\"colab-df-convert\" onclick=\"convertToInteractive('df-4be05347-cc78-4b5f-aeb2-5a3f4d152ae5')\"\n",
              "            title=\"Convert this dataframe to an interactive table.\"\n",
              "            style=\"display:none;\">\n",
              "\n",
              "  <svg xmlns=\"http://www.w3.org/2000/svg\" height=\"24px\" viewBox=\"0 -960 960 960\">\n",
              "    <path d=\"M120-120v-720h720v720H120Zm60-500h600v-160H180v160Zm220 220h160v-160H400v160Zm0 220h160v-160H400v160ZM180-400h160v-160H180v160Zm440 0h160v-160H620v160ZM180-180h160v-160H180v160Zm440 0h160v-160H620v160Z\"/>\n",
              "  </svg>\n",
              "    </button>\n",
              "\n",
              "  <style>\n",
              "    .colab-df-container {\n",
              "      display:flex;\n",
              "      gap: 12px;\n",
              "    }\n",
              "\n",
              "    .colab-df-convert {\n",
              "      background-color: #E8F0FE;\n",
              "      border: none;\n",
              "      border-radius: 50%;\n",
              "      cursor: pointer;\n",
              "      display: none;\n",
              "      fill: #1967D2;\n",
              "      height: 32px;\n",
              "      padding: 0 0 0 0;\n",
              "      width: 32px;\n",
              "    }\n",
              "\n",
              "    .colab-df-convert:hover {\n",
              "      background-color: #E2EBFA;\n",
              "      box-shadow: 0px 1px 2px rgba(60, 64, 67, 0.3), 0px 1px 3px 1px rgba(60, 64, 67, 0.15);\n",
              "      fill: #174EA6;\n",
              "    }\n",
              "\n",
              "    .colab-df-buttons div {\n",
              "      margin-bottom: 4px;\n",
              "    }\n",
              "\n",
              "    [theme=dark] .colab-df-convert {\n",
              "      background-color: #3B4455;\n",
              "      fill: #D2E3FC;\n",
              "    }\n",
              "\n",
              "    [theme=dark] .colab-df-convert:hover {\n",
              "      background-color: #434B5C;\n",
              "      box-shadow: 0px 1px 3px 1px rgba(0, 0, 0, 0.15);\n",
              "      filter: drop-shadow(0px 1px 2px rgba(0, 0, 0, 0.3));\n",
              "      fill: #FFFFFF;\n",
              "    }\n",
              "  </style>\n",
              "\n",
              "    <script>\n",
              "      const buttonEl =\n",
              "        document.querySelector('#df-4be05347-cc78-4b5f-aeb2-5a3f4d152ae5 button.colab-df-convert');\n",
              "      buttonEl.style.display =\n",
              "        google.colab.kernel.accessAllowed ? 'block' : 'none';\n",
              "\n",
              "      async function convertToInteractive(key) {\n",
              "        const element = document.querySelector('#df-4be05347-cc78-4b5f-aeb2-5a3f4d152ae5');\n",
              "        const dataTable =\n",
              "          await google.colab.kernel.invokeFunction('convertToInteractive',\n",
              "                                                    [key], {});\n",
              "        if (!dataTable) return;\n",
              "\n",
              "        const docLinkHtml = 'Like what you see? Visit the ' +\n",
              "          '<a target=\"_blank\" href=https://colab.research.google.com/notebooks/data_table.ipynb>data table notebook</a>'\n",
              "          + ' to learn more about interactive tables.';\n",
              "        element.innerHTML = '';\n",
              "        dataTable['output_type'] = 'display_data';\n",
              "        await google.colab.output.renderOutput(dataTable, element);\n",
              "        const docLink = document.createElement('div');\n",
              "        docLink.innerHTML = docLinkHtml;\n",
              "        element.appendChild(docLink);\n",
              "      }\n",
              "    </script>\n",
              "  </div>\n",
              "\n",
              "\n",
              "<div id=\"df-e53dfaf4-3929-41b2-9c33-066bba2d0c42\">\n",
              "  <button class=\"colab-df-quickchart\" onclick=\"quickchart('df-e53dfaf4-3929-41b2-9c33-066bba2d0c42')\"\n",
              "            title=\"Suggest charts\"\n",
              "            style=\"display:none;\">\n",
              "\n",
              "<svg xmlns=\"http://www.w3.org/2000/svg\" height=\"24px\"viewBox=\"0 0 24 24\"\n",
              "     width=\"24px\">\n",
              "    <g>\n",
              "        <path d=\"M19 3H5c-1.1 0-2 .9-2 2v14c0 1.1.9 2 2 2h14c1.1 0 2-.9 2-2V5c0-1.1-.9-2-2-2zM9 17H7v-7h2v7zm4 0h-2V7h2v10zm4 0h-2v-4h2v4z\"/>\n",
              "    </g>\n",
              "</svg>\n",
              "  </button>\n",
              "\n",
              "<style>\n",
              "  .colab-df-quickchart {\n",
              "      --bg-color: #E8F0FE;\n",
              "      --fill-color: #1967D2;\n",
              "      --hover-bg-color: #E2EBFA;\n",
              "      --hover-fill-color: #174EA6;\n",
              "      --disabled-fill-color: #AAA;\n",
              "      --disabled-bg-color: #DDD;\n",
              "  }\n",
              "\n",
              "  [theme=dark] .colab-df-quickchart {\n",
              "      --bg-color: #3B4455;\n",
              "      --fill-color: #D2E3FC;\n",
              "      --hover-bg-color: #434B5C;\n",
              "      --hover-fill-color: #FFFFFF;\n",
              "      --disabled-bg-color: #3B4455;\n",
              "      --disabled-fill-color: #666;\n",
              "  }\n",
              "\n",
              "  .colab-df-quickchart {\n",
              "    background-color: var(--bg-color);\n",
              "    border: none;\n",
              "    border-radius: 50%;\n",
              "    cursor: pointer;\n",
              "    display: none;\n",
              "    fill: var(--fill-color);\n",
              "    height: 32px;\n",
              "    padding: 0;\n",
              "    width: 32px;\n",
              "  }\n",
              "\n",
              "  .colab-df-quickchart:hover {\n",
              "    background-color: var(--hover-bg-color);\n",
              "    box-shadow: 0 1px 2px rgba(60, 64, 67, 0.3), 0 1px 3px 1px rgba(60, 64, 67, 0.15);\n",
              "    fill: var(--button-hover-fill-color);\n",
              "  }\n",
              "\n",
              "  .colab-df-quickchart-complete:disabled,\n",
              "  .colab-df-quickchart-complete:disabled:hover {\n",
              "    background-color: var(--disabled-bg-color);\n",
              "    fill: var(--disabled-fill-color);\n",
              "    box-shadow: none;\n",
              "  }\n",
              "\n",
              "  .colab-df-spinner {\n",
              "    border: 2px solid var(--fill-color);\n",
              "    border-color: transparent;\n",
              "    border-bottom-color: var(--fill-color);\n",
              "    animation:\n",
              "      spin 1s steps(1) infinite;\n",
              "  }\n",
              "\n",
              "  @keyframes spin {\n",
              "    0% {\n",
              "      border-color: transparent;\n",
              "      border-bottom-color: var(--fill-color);\n",
              "      border-left-color: var(--fill-color);\n",
              "    }\n",
              "    20% {\n",
              "      border-color: transparent;\n",
              "      border-left-color: var(--fill-color);\n",
              "      border-top-color: var(--fill-color);\n",
              "    }\n",
              "    30% {\n",
              "      border-color: transparent;\n",
              "      border-left-color: var(--fill-color);\n",
              "      border-top-color: var(--fill-color);\n",
              "      border-right-color: var(--fill-color);\n",
              "    }\n",
              "    40% {\n",
              "      border-color: transparent;\n",
              "      border-right-color: var(--fill-color);\n",
              "      border-top-color: var(--fill-color);\n",
              "    }\n",
              "    60% {\n",
              "      border-color: transparent;\n",
              "      border-right-color: var(--fill-color);\n",
              "    }\n",
              "    80% {\n",
              "      border-color: transparent;\n",
              "      border-right-color: var(--fill-color);\n",
              "      border-bottom-color: var(--fill-color);\n",
              "    }\n",
              "    90% {\n",
              "      border-color: transparent;\n",
              "      border-bottom-color: var(--fill-color);\n",
              "    }\n",
              "  }\n",
              "</style>\n",
              "\n",
              "  <script>\n",
              "    async function quickchart(key) {\n",
              "      const quickchartButtonEl =\n",
              "        document.querySelector('#' + key + ' button');\n",
              "      quickchartButtonEl.disabled = true;  // To prevent multiple clicks.\n",
              "      quickchartButtonEl.classList.add('colab-df-spinner');\n",
              "      try {\n",
              "        const charts = await google.colab.kernel.invokeFunction(\n",
              "            'suggestCharts', [key], {});\n",
              "      } catch (error) {\n",
              "        console.error('Error during call to suggestCharts:', error);\n",
              "      }\n",
              "      quickchartButtonEl.classList.remove('colab-df-spinner');\n",
              "      quickchartButtonEl.classList.add('colab-df-quickchart-complete');\n",
              "    }\n",
              "    (() => {\n",
              "      let quickchartButtonEl =\n",
              "        document.querySelector('#df-e53dfaf4-3929-41b2-9c33-066bba2d0c42 button');\n",
              "      quickchartButtonEl.style.display =\n",
              "        google.colab.kernel.accessAllowed ? 'block' : 'none';\n",
              "    })();\n",
              "  </script>\n",
              "</div>\n",
              "    </div>\n",
              "  </div>\n"
            ],
            "application/vnd.google.colaboratory.intrinsic+json": {
              "type": "dataframe",
              "variable_name": "Xtest",
              "summary": "{\n  \"name\": \"Xtest\",\n  \"rows\": 2500,\n  \"fields\": [\n    {\n      \"column\": \"f1\",\n      \"properties\": {\n        \"dtype\": \"number\",\n        \"std\": 13,\n        \"min\": 17,\n        \"max\": 90,\n        \"num_unique_values\": 67,\n        \"samples\": [\n          22,\n          17,\n          28\n        ],\n        \"semantic_type\": \"\",\n        \"description\": \"\"\n      }\n    },\n    {\n      \"column\": \"f2\",\n      \"properties\": {\n        \"dtype\": \"number\",\n        \"std\": 5.9128982594575475e-12,\n        \"min\": 238.9333333333333,\n        \"max\": 238.9333333333333,\n        \"num_unique_values\": 1,\n        \"samples\": [\n          238.9333333333333\n        ],\n        \"semantic_type\": \"\",\n        \"description\": \"\"\n      }\n    },\n    {\n      \"column\": \"f3\",\n      \"properties\": {\n        \"dtype\": \"number\",\n        \"std\": 107542,\n        \"min\": 19302,\n        \"max\": 910398,\n        \"num_unique_values\": 2400,\n        \"samples\": [\n          193820\n        ],\n        \"semantic_type\": \"\",\n        \"description\": \"\"\n      }\n    },\n    {\n      \"column\": \"f4\",\n      \"properties\": {\n        \"dtype\": \"number\",\n        \"std\": 1.4241458867477285e-14,\n        \"min\": 0.2389333333333333,\n        \"max\": 0.2389333333333333,\n        \"num_unique_values\": 1,\n        \"samples\": [\n          0.2389333333333333\n        ],\n        \"semantic_type\": \"\",\n        \"description\": \"\"\n      }\n    },\n    {\n      \"column\": \"f5\",\n      \"properties\": {\n        \"dtype\": \"number\",\n        \"std\": 2,\n        \"min\": 1,\n        \"max\": 16,\n        \"num_unique_values\": 16,\n        \"samples\": [\n          10\n        ],\n        \"semantic_type\": \"\",\n        \"description\": \"\"\n      }\n    },\n    {\n      \"column\": \"f6\",\n      \"properties\": {\n        \"dtype\": \"number\",\n        \"std\": 1.4241458867477285e-14,\n        \"min\": 0.2389333333333333,\n        \"max\": 0.2389333333333333,\n        \"num_unique_values\": 1,\n        \"samples\": [\n          0.2389333333333333\n        ],\n        \"semantic_type\": \"\",\n        \"description\": \"\"\n      }\n    },\n    {\n      \"column\": \"f7\",\n      \"properties\": {\n        \"dtype\": \"number\",\n        \"std\": 1.4241458867477285e-14,\n        \"min\": 0.2389333333333333,\n        \"max\": 0.2389333333333333,\n        \"num_unique_values\": 1,\n        \"samples\": [\n          0.2389333333333333\n        ],\n        \"semantic_type\": \"\",\n        \"description\": \"\"\n      }\n    },\n    {\n      \"column\": \"f8\",\n      \"properties\": {\n        \"dtype\": \"number\",\n        \"std\": 1.4241458867477285e-14,\n        \"min\": 0.2389333333333333,\n        \"max\": 0.2389333333333333,\n        \"num_unique_values\": 1,\n        \"samples\": [\n          0.2389333333333333\n        ],\n        \"semantic_type\": \"\",\n        \"description\": \"\"\n      }\n    },\n    {\n      \"column\": \"f9\",\n      \"properties\": {\n        \"dtype\": \"number\",\n        \"std\": 9.594245973879435e-14,\n        \"min\": 23.89333333333333,\n        \"max\": 23.89333333333333,\n        \"num_unique_values\": 1,\n        \"samples\": [\n          23.89333333333333\n        ],\n        \"semantic_type\": \"\",\n        \"description\": \"\"\n      }\n    },\n    {\n      \"column\": \"f10\",\n      \"properties\": {\n        \"dtype\": \"number\",\n        \"std\": 1.4241458867477285e-14,\n        \"min\": 0.2389333333333333,\n        \"max\": 0.2389333333333333,\n        \"num_unique_values\": 1,\n        \"samples\": [\n          0.2389333333333333\n        ],\n        \"semantic_type\": \"\",\n        \"description\": \"\"\n      }\n    },\n    {\n      \"column\": \"f11\",\n      \"properties\": {\n        \"dtype\": \"number\",\n        \"std\": 6786,\n        \"min\": 0,\n        \"max\": 99999,\n        \"num_unique_values\": 67,\n        \"samples\": [\n          6514\n        ],\n        \"semantic_type\": \"\",\n        \"description\": \"\"\n      }\n    },\n    {\n      \"column\": \"f12\",\n      \"properties\": {\n        \"dtype\": \"number\",\n        \"std\": 387,\n        \"min\": 0,\n        \"max\": 2559,\n        \"num_unique_values\": 39,\n        \"samples\": [\n          2206\n        ],\n        \"semantic_type\": \"\",\n        \"description\": \"\"\n      }\n    },\n    {\n      \"column\": \"f13\",\n      \"properties\": {\n        \"dtype\": \"number\",\n        \"std\": 12,\n        \"min\": 3,\n        \"max\": 99,\n        \"num_unique_values\": 65,\n        \"samples\": [\n          7\n        ],\n        \"semantic_type\": \"\",\n        \"description\": \"\"\n      }\n    },\n    {\n      \"column\": \"f14\",\n      \"properties\": {\n        \"dtype\": \"number\",\n        \"std\": 1.4241458867477285e-14,\n        \"min\": 0.2389333333333333,\n        \"max\": 0.2389333333333333,\n        \"num_unique_values\": 1,\n        \"samples\": [\n          0.2389333333333333\n        ],\n        \"semantic_type\": \"\",\n        \"description\": \"\"\n      }\n    },\n    {\n      \"column\": \"target\",\n      \"properties\": {\n        \"dtype\": \"number\",\n        \"std\": 0,\n        \"min\": 0,\n        \"max\": 1,\n        \"num_unique_values\": 2,\n        \"samples\": [\n          1\n        ],\n        \"semantic_type\": \"\",\n        \"description\": \"\"\n      }\n    }\n  ]\n}"
            }
          },
          "metadata": {},
          "execution_count": 12
        }
      ]
    },
    {
      "cell_type": "code",
      "source": [
        "Xtest.info()"
      ],
      "metadata": {
        "id": "D8ExyLAEyrO-",
        "colab": {
          "base_uri": "https://localhost:8080/"
        },
        "outputId": "e73eacd5-d64f-4a15-a7d3-b8aa047c1f48"
      },
      "execution_count": 13,
      "outputs": [
        {
          "output_type": "stream",
          "name": "stdout",
          "text": [
            "<class 'pandas.core.frame.DataFrame'>\n",
            "RangeIndex: 2500 entries, 0 to 2499\n",
            "Data columns (total 15 columns):\n",
            " #   Column  Non-Null Count  Dtype  \n",
            "---  ------  --------------  -----  \n",
            " 0   f1      2500 non-null   int64  \n",
            " 1   f2      2500 non-null   float64\n",
            " 2   f3      2500 non-null   int64  \n",
            " 3   f4      2500 non-null   float64\n",
            " 4   f5      2500 non-null   int64  \n",
            " 5   f6      2500 non-null   float64\n",
            " 6   f7      2500 non-null   float64\n",
            " 7   f8      2500 non-null   float64\n",
            " 8   f9      2500 non-null   float64\n",
            " 9   f10     2500 non-null   float64\n",
            " 10  f11     2500 non-null   int64  \n",
            " 11  f12     2500 non-null   int64  \n",
            " 12  f13     2500 non-null   int64  \n",
            " 13  f14     2500 non-null   float64\n",
            " 14  target  2500 non-null   int64  \n",
            "dtypes: float64(8), int64(7)\n",
            "memory usage: 293.1 KB\n"
          ]
        }
      ]
    },
    {
      "cell_type": "code",
      "source": [
        "Xtest['target'].value_counts()"
      ],
      "metadata": {
        "id": "V4-PMHo226Yw",
        "colab": {
          "base_uri": "https://localhost:8080/",
          "height": 178
        },
        "outputId": "f0237785-683c-431f-9d3c-8c48393feb87"
      },
      "execution_count": 14,
      "outputs": [
        {
          "output_type": "execute_result",
          "data": {
            "text/plain": [
              "target\n",
              "0    1913\n",
              "1     587\n",
              "Name: count, dtype: int64"
            ],
            "text/html": [
              "<div>\n",
              "<style scoped>\n",
              "    .dataframe tbody tr th:only-of-type {\n",
              "        vertical-align: middle;\n",
              "    }\n",
              "\n",
              "    .dataframe tbody tr th {\n",
              "        vertical-align: top;\n",
              "    }\n",
              "\n",
              "    .dataframe thead th {\n",
              "        text-align: right;\n",
              "    }\n",
              "</style>\n",
              "<table border=\"1\" class=\"dataframe\">\n",
              "  <thead>\n",
              "    <tr style=\"text-align: right;\">\n",
              "      <th></th>\n",
              "      <th>count</th>\n",
              "    </tr>\n",
              "    <tr>\n",
              "      <th>target</th>\n",
              "      <th></th>\n",
              "    </tr>\n",
              "  </thead>\n",
              "  <tbody>\n",
              "    <tr>\n",
              "      <th>0</th>\n",
              "      <td>1913</td>\n",
              "    </tr>\n",
              "    <tr>\n",
              "      <th>1</th>\n",
              "      <td>587</td>\n",
              "    </tr>\n",
              "  </tbody>\n",
              "</table>\n",
              "</div><br><label><b>dtype:</b> int64</label>"
            ]
          },
          "metadata": {},
          "execution_count": 14
        }
      ]
    },
    {
      "cell_type": "code",
      "source": [
        "# @title target\n",
        "\n",
        "from matplotlib import pyplot as plt\n",
        "Xtest['target'].plot(kind='hist', bins=20, title='target')\n",
        "plt.gca().spines[['top', 'right',]].set_visible(False)"
      ],
      "metadata": {
        "id": "WP73lPJ54tOx",
        "colab": {
          "base_uri": "https://localhost:8080/",
          "height": 452
        },
        "outputId": "67bc33e4-ed99-4497-a0ed-777914620cba"
      },
      "execution_count": 15,
      "outputs": [
        {
          "output_type": "display_data",
          "data": {
            "text/plain": [
              "<Figure size 640x480 with 1 Axes>"
            ],
            "image/png": "[encoded data removed]"
          },
          "metadata": {}
        }
      ]
    },
    {
      "cell_type": "markdown",
      "source": [
        "Видим дисбаланс в целевой переменной также в набоер Xtest"
      ],
      "metadata": {
        "id": "MdxwilCa4_5g"
      }
    },
    {
      "cell_type": "code",
      "source": [
        "Xtest.describe().T.style.background_gradient(cmap='YlOrRd')"
      ],
      "metadata": {
        "id": "SYjN-JGazI72",
        "colab": {
          "base_uri": "https://localhost:8080/",
          "height": 540
        },
        "outputId": "d816760a-e525-4600-eb30-bc8271499d89"
      },
      "execution_count": 16,
      "outputs": [
        {
          "output_type": "execute_result",
          "data": {
            "text/plain": [
              "<pandas.io.formats.style.Styler at 0x799073e32a10>"
            ],
            "text/html": [
              "<style type=\"text/css\">\n",
              "#T_81099_row0_col0, #T_81099_row0_col1, #T_81099_row0_col2, #T_81099_row0_col3, #T_81099_row0_col4, #T_81099_row0_col5, #T_81099_row0_col6, #T_81099_row0_col7, #T_81099_row1_col0, #T_81099_row1_col1, #T_81099_row1_col2, #T_81099_row1_col4, #T_81099_row1_col5, #T_81099_row1_col6, #T_81099_row1_col7, #T_81099_row2_col0, #T_81099_row3_col0, #T_81099_row3_col1, #T_81099_row3_col2, #T_81099_row3_col3, #T_81099_row3_col4, #T_81099_row3_col5, #T_81099_row3_col6, #T_81099_row3_col7, #T_81099_row4_col0, #T_81099_row4_col1, #T_81099_row4_col2, #T_81099_row4_col3, #T_81099_row4_col4, #T_81099_row4_col5, #T_81099_row4_col6, #T_81099_row4_col7, #T_81099_row5_col0, #T_81099_row5_col1, #T_81099_row5_col2, #T_81099_row5_col3, #T_81099_row5_col4, #T_81099_row5_col5, #T_81099_row5_col6, #T_81099_row5_col7, #T_81099_row6_col0, #T_81099_row6_col1, #T_81099_row6_col2, #T_81099_row6_col3, #T_81099_row6_col4, #T_81099_row6_col5, #T_81099_row6_col6, #T_81099_row6_col7, #T_81099_row7_col0, #T_81099_row7_col1, #T_81099_row7_col2, #T_81099_row7_col3, #T_81099_row7_col4, #T_81099_row7_col5, #T_81099_row7_col6, #T_81099_row7_col7, #T_81099_row8_col0, #T_81099_row8_col1, #T_81099_row8_col2, #T_81099_row8_col3, #T_81099_row8_col4, #T_81099_row8_col5, #T_81099_row8_col6, #T_81099_row8_col7, #T_81099_row9_col0, #T_81099_row9_col1, #T_81099_row9_col2, #T_81099_row9_col3, #T_81099_row9_col4, #T_81099_row9_col5, #T_81099_row9_col6, #T_81099_row9_col7, #T_81099_row10_col0, #T_81099_row10_col3, #T_81099_row10_col4, #T_81099_row10_col5, #T_81099_row10_col6, #T_81099_row11_col0, #T_81099_row11_col1, #T_81099_row11_col2, #T_81099_row11_col3, #T_81099_row11_col4, #T_81099_row11_col5, #T_81099_row11_col6, #T_81099_row11_col7, #T_81099_row12_col0, #T_81099_row12_col1, #T_81099_row12_col2, #T_81099_row12_col3, #T_81099_row12_col4, #T_81099_row12_col5, #T_81099_row12_col6, #T_81099_row12_col7, #T_81099_row13_col0, #T_81099_row13_col1, #T_81099_row13_col2, #T_81099_row13_col3, #T_81099_row13_col4, #T_81099_row13_col5, #T_81099_row13_col6, #T_81099_row13_col7, #T_81099_row14_col0, #T_81099_row14_col1, #T_81099_row14_col2, #T_81099_row14_col3, #T_81099_row14_col4, #T_81099_row14_col5, #T_81099_row14_col6, #T_81099_row14_col7 {\n",
              "  background-color: #ffffcc;\n",
              "  color: #000000;\n",
              "}\n",
              "#T_81099_row1_col3 {\n",
              "  background-color: #fffdc8;\n",
              "  color: #000000;\n",
              "}\n",
              "#T_81099_row2_col1, #T_81099_row2_col2, #T_81099_row2_col3, #T_81099_row2_col4, #T_81099_row2_col5, #T_81099_row2_col6, #T_81099_row2_col7 {\n",
              "  background-color: #800026;\n",
              "  color: #f1f1f1;\n",
              "}\n",
              "#T_81099_row10_col1 {\n",
              "  background-color: #fffecb;\n",
              "  color: #000000;\n",
              "}\n",
              "#T_81099_row10_col2 {\n",
              "  background-color: #fff6b6;\n",
              "  color: #000000;\n",
              "}\n",
              "#T_81099_row10_col7 {\n",
              "  background-color: #ffefa5;\n",
              "  color: #000000;\n",
              "}\n",
              "</style>\n",
              "<table id=\"T_81099\" class=\"dataframe\">\n",
              "  <thead>\n",
              "    <tr>\n",
              "      <th class=\"blank level0\" >&nbsp;</th>\n",
              "      <th id=\"T_81099_level0_col0\" class=\"col_heading level0 col0\" >count</th>\n",
              "      <th id=\"T_81099_level0_col1\" class=\"col_heading level0 col1\" >mean</th>\n",
              "      <th id=\"T_81099_level0_col2\" class=\"col_heading level0 col2\" >std</th>\n",
              "      <th id=\"T_81099_level0_col3\" class=\"col_heading level0 col3\" >min</th>\n",
              "      <th id=\"T_81099_level0_col4\" class=\"col_heading level0 col4\" >25%</th>\n",
              "      <th id=\"T_81099_level0_col5\" class=\"col_heading level0 col5\" >50%</th>\n",
              "      <th id=\"T_81099_level0_col6\" class=\"col_heading level0 col6\" >75%</th>\n",
              "      <th id=\"T_81099_level0_col7\" class=\"col_heading level0 col7\" >max</th>\n",
              "    </tr>\n",
              "  </thead>\n",
              "  <tbody>\n",
              "    <tr>\n",
              "      <th id=\"T_81099_level0_row0\" class=\"row_heading level0 row0\" >f1</th>\n",
              "      <td id=\"T_81099_row0_col0\" class=\"data row0 col0\" >2500.000000</td>\n",
              "      <td id=\"T_81099_row0_col1\" class=\"data row0 col1\" >38.069200</td>\n",
              "      <td id=\"T_81099_row0_col2\" class=\"data row0 col2\" >13.442168</td>\n",
              "      <td id=\"T_81099_row0_col3\" class=\"data row0 col3\" >17.000000</td>\n",
              "      <td id=\"T_81099_row0_col4\" class=\"data row0 col4\" >27.000000</td>\n",
              "      <td id=\"T_81099_row0_col5\" class=\"data row0 col5\" >37.000000</td>\n",
              "      <td id=\"T_81099_row0_col6\" class=\"data row0 col6\" >47.000000</td>\n",
              "      <td id=\"T_81099_row0_col7\" class=\"data row0 col7\" >90.000000</td>\n",
              "    </tr>\n",
              "    <tr>\n",
              "      <th id=\"T_81099_level0_row1\" class=\"row_heading level0 row1\" >f2</th>\n",
              "      <td id=\"T_81099_row1_col0\" class=\"data row1 col0\" >2500.000000</td>\n",
              "      <td id=\"T_81099_row1_col1\" class=\"data row1 col1\" >238.933333</td>\n",
              "      <td id=\"T_81099_row1_col2\" class=\"data row1 col2\" >0.000000</td>\n",
              "      <td id=\"T_81099_row1_col3\" class=\"data row1 col3\" >238.933333</td>\n",
              "      <td id=\"T_81099_row1_col4\" class=\"data row1 col4\" >238.933333</td>\n",
              "      <td id=\"T_81099_row1_col5\" class=\"data row1 col5\" >238.933333</td>\n",
              "      <td id=\"T_81099_row1_col6\" class=\"data row1 col6\" >238.933333</td>\n",
              "      <td id=\"T_81099_row1_col7\" class=\"data row1 col7\" >238.933333</td>\n",
              "    </tr>\n",
              "    <tr>\n",
              "      <th id=\"T_81099_level0_row2\" class=\"row_heading level0 row2\" >f3</th>\n",
              "      <td id=\"T_81099_row2_col0\" class=\"data row2 col0\" >2500.000000</td>\n",
              "      <td id=\"T_81099_row2_col1\" class=\"data row2 col1\" >191561.425200</td>\n",
              "      <td id=\"T_81099_row2_col2\" class=\"data row2 col2\" >107542.508483</td>\n",
              "      <td id=\"T_81099_row2_col3\" class=\"data row2 col3\" >19302.000000</td>\n",
              "      <td id=\"T_81099_row2_col4\" class=\"data row2 col4\" >119098.750000</td>\n",
              "      <td id=\"T_81099_row2_col5\" class=\"data row2 col5\" >177510.500000</td>\n",
              "      <td id=\"T_81099_row2_col6\" class=\"data row2 col6\" >238851.250000</td>\n",
              "      <td id=\"T_81099_row2_col7\" class=\"data row2 col7\" >910398.000000</td>\n",
              "    </tr>\n",
              "    <tr>\n",
              "      <th id=\"T_81099_level0_row3\" class=\"row_heading level0 row3\" >f4</th>\n",
              "      <td id=\"T_81099_row3_col0\" class=\"data row3 col0\" >2500.000000</td>\n",
              "      <td id=\"T_81099_row3_col1\" class=\"data row3 col1\" >0.238933</td>\n",
              "      <td id=\"T_81099_row3_col2\" class=\"data row3 col2\" >0.000000</td>\n",
              "      <td id=\"T_81099_row3_col3\" class=\"data row3 col3\" >0.238933</td>\n",
              "      <td id=\"T_81099_row3_col4\" class=\"data row3 col4\" >0.238933</td>\n",
              "      <td id=\"T_81099_row3_col5\" class=\"data row3 col5\" >0.238933</td>\n",
              "      <td id=\"T_81099_row3_col6\" class=\"data row3 col6\" >0.238933</td>\n",
              "      <td id=\"T_81099_row3_col7\" class=\"data row3 col7\" >0.238933</td>\n",
              "    </tr>\n",
              "    <tr>\n",
              "      <th id=\"T_81099_level0_row4\" class=\"row_heading level0 row4\" >f5</th>\n",
              "      <td id=\"T_81099_row4_col0\" class=\"data row4 col0\" >2500.000000</td>\n",
              "      <td id=\"T_81099_row4_col1\" class=\"data row4 col1\" >10.056800</td>\n",
              "      <td id=\"T_81099_row4_col2\" class=\"data row4 col2\" >2.554875</td>\n",
              "      <td id=\"T_81099_row4_col3\" class=\"data row4 col3\" >1.000000</td>\n",
              "      <td id=\"T_81099_row4_col4\" class=\"data row4 col4\" >9.000000</td>\n",
              "      <td id=\"T_81099_row4_col5\" class=\"data row4 col5\" >10.000000</td>\n",
              "      <td id=\"T_81099_row4_col6\" class=\"data row4 col6\" >12.000000</td>\n",
              "      <td id=\"T_81099_row4_col7\" class=\"data row4 col7\" >16.000000</td>\n",
              "    </tr>\n",
              "    <tr>\n",
              "      <th id=\"T_81099_level0_row5\" class=\"row_heading level0 row5\" >f6</th>\n",
              "      <td id=\"T_81099_row5_col0\" class=\"data row5 col0\" >2500.000000</td>\n",
              "      <td id=\"T_81099_row5_col1\" class=\"data row5 col1\" >0.238933</td>\n",
              "      <td id=\"T_81099_row5_col2\" class=\"data row5 col2\" >0.000000</td>\n",
              "      <td id=\"T_81099_row5_col3\" class=\"data row5 col3\" >0.238933</td>\n",
              "      <td id=\"T_81099_row5_col4\" class=\"data row5 col4\" >0.238933</td>\n",
              "      <td id=\"T_81099_row5_col5\" class=\"data row5 col5\" >0.238933</td>\n",
              "      <td id=\"T_81099_row5_col6\" class=\"data row5 col6\" >0.238933</td>\n",
              "      <td id=\"T_81099_row5_col7\" class=\"data row5 col7\" >0.238933</td>\n",
              "    </tr>\n",
              "    <tr>\n",
              "      <th id=\"T_81099_level0_row6\" class=\"row_heading level0 row6\" >f7</th>\n",
              "      <td id=\"T_81099_row6_col0\" class=\"data row6 col0\" >2500.000000</td>\n",
              "      <td id=\"T_81099_row6_col1\" class=\"data row6 col1\" >0.238933</td>\n",
              "      <td id=\"T_81099_row6_col2\" class=\"data row6 col2\" >0.000000</td>\n",
              "      <td id=\"T_81099_row6_col3\" class=\"data row6 col3\" >0.238933</td>\n",
              "      <td id=\"T_81099_row6_col4\" class=\"data row6 col4\" >0.238933</td>\n",
              "      <td id=\"T_81099_row6_col5\" class=\"data row6 col5\" >0.238933</td>\n",
              "      <td id=\"T_81099_row6_col6\" class=\"data row6 col6\" >0.238933</td>\n",
              "      <td id=\"T_81099_row6_col7\" class=\"data row6 col7\" >0.238933</td>\n",
              "    </tr>\n",
              "    <tr>\n",
              "      <th id=\"T_81099_level0_row7\" class=\"row_heading level0 row7\" >f8</th>\n",
              "      <td id=\"T_81099_row7_col0\" class=\"data row7 col0\" >2500.000000</td>\n",
              "      <td id=\"T_81099_row7_col1\" class=\"data row7 col1\" >0.238933</td>\n",
              "      <td id=\"T_81099_row7_col2\" class=\"data row7 col2\" >0.000000</td>\n",
              "      <td id=\"T_81099_row7_col3\" class=\"data row7 col3\" >0.238933</td>\n",
              "      <td id=\"T_81099_row7_col4\" class=\"data row7 col4\" >0.238933</td>\n",
              "      <td id=\"T_81099_row7_col5\" class=\"data row7 col5\" >0.238933</td>\n",
              "      <td id=\"T_81099_row7_col6\" class=\"data row7 col6\" >0.238933</td>\n",
              "      <td id=\"T_81099_row7_col7\" class=\"data row7 col7\" >0.238933</td>\n",
              "    </tr>\n",
              "    <tr>\n",
              "      <th id=\"T_81099_level0_row8\" class=\"row_heading level0 row8\" >f9</th>\n",
              "      <td id=\"T_81099_row8_col0\" class=\"data row8 col0\" >2500.000000</td>\n",
              "      <td id=\"T_81099_row8_col1\" class=\"data row8 col1\" >23.893333</td>\n",
              "      <td id=\"T_81099_row8_col2\" class=\"data row8 col2\" >0.000000</td>\n",
              "      <td id=\"T_81099_row8_col3\" class=\"data row8 col3\" >23.893333</td>\n",
              "      <td id=\"T_81099_row8_col4\" class=\"data row8 col4\" >23.893333</td>\n",
              "      <td id=\"T_81099_row8_col5\" class=\"data row8 col5\" >23.893333</td>\n",
              "      <td id=\"T_81099_row8_col6\" class=\"data row8 col6\" >23.893333</td>\n",
              "      <td id=\"T_81099_row8_col7\" class=\"data row8 col7\" >23.893333</td>\n",
              "    </tr>\n",
              "    <tr>\n",
              "      <th id=\"T_81099_level0_row9\" class=\"row_heading level0 row9\" >f10</th>\n",
              "      <td id=\"T_81099_row9_col0\" class=\"data row9 col0\" >2500.000000</td>\n",
              "      <td id=\"T_81099_row9_col1\" class=\"data row9 col1\" >0.238933</td>\n",
              "      <td id=\"T_81099_row9_col2\" class=\"data row9 col2\" >0.000000</td>\n",
              "      <td id=\"T_81099_row9_col3\" class=\"data row9 col3\" >0.238933</td>\n",
              "      <td id=\"T_81099_row9_col4\" class=\"data row9 col4\" >0.238933</td>\n",
              "      <td id=\"T_81099_row9_col5\" class=\"data row9 col5\" >0.238933</td>\n",
              "      <td id=\"T_81099_row9_col6\" class=\"data row9 col6\" >0.238933</td>\n",
              "      <td id=\"T_81099_row9_col7\" class=\"data row9 col7\" >0.238933</td>\n",
              "    </tr>\n",
              "    <tr>\n",
              "      <th id=\"T_81099_level0_row10\" class=\"row_heading level0 row10\" >f11</th>\n",
              "      <td id=\"T_81099_row10_col0\" class=\"data row10 col0\" >2500.000000</td>\n",
              "      <td id=\"T_81099_row10_col1\" class=\"data row10 col1\" >1022.667200</td>\n",
              "      <td id=\"T_81099_row10_col2\" class=\"data row10 col2\" >6786.871929</td>\n",
              "      <td id=\"T_81099_row10_col3\" class=\"data row10 col3\" >0.000000</td>\n",
              "      <td id=\"T_81099_row10_col4\" class=\"data row10 col4\" >0.000000</td>\n",
              "      <td id=\"T_81099_row10_col5\" class=\"data row10 col5\" >0.000000</td>\n",
              "      <td id=\"T_81099_row10_col6\" class=\"data row10 col6\" >0.000000</td>\n",
              "      <td id=\"T_81099_row10_col7\" class=\"data row10 col7\" >99999.000000</td>\n",
              "    </tr>\n",
              "    <tr>\n",
              "      <th id=\"T_81099_level0_row11\" class=\"row_heading level0 row11\" >f12</th>\n",
              "      <td id=\"T_81099_row11_col0\" class=\"data row11 col0\" >2500.000000</td>\n",
              "      <td id=\"T_81099_row11_col1\" class=\"data row11 col1\" >83.760800</td>\n",
              "      <td id=\"T_81099_row11_col2\" class=\"data row11 col2\" >387.723580</td>\n",
              "      <td id=\"T_81099_row11_col3\" class=\"data row11 col3\" >0.000000</td>\n",
              "      <td id=\"T_81099_row11_col4\" class=\"data row11 col4\" >0.000000</td>\n",
              "      <td id=\"T_81099_row11_col5\" class=\"data row11 col5\" >0.000000</td>\n",
              "      <td id=\"T_81099_row11_col6\" class=\"data row11 col6\" >0.000000</td>\n",
              "      <td id=\"T_81099_row11_col7\" class=\"data row11 col7\" >2559.000000</td>\n",
              "    </tr>\n",
              "    <tr>\n",
              "      <th id=\"T_81099_level0_row12\" class=\"row_heading level0 row12\" >f13</th>\n",
              "      <td id=\"T_81099_row12_col0\" class=\"data row12 col0\" >2500.000000</td>\n",
              "      <td id=\"T_81099_row12_col1\" class=\"data row12 col1\" >40.108800</td>\n",
              "      <td id=\"T_81099_row12_col2\" class=\"data row12 col2\" >12.109914</td>\n",
              "      <td id=\"T_81099_row12_col3\" class=\"data row12 col3\" >3.000000</td>\n",
              "      <td id=\"T_81099_row12_col4\" class=\"data row12 col4\" >38.750000</td>\n",
              "      <td id=\"T_81099_row12_col5\" class=\"data row12 col5\" >40.000000</td>\n",
              "      <td id=\"T_81099_row12_col6\" class=\"data row12 col6\" >45.000000</td>\n",
              "      <td id=\"T_81099_row12_col7\" class=\"data row12 col7\" >99.000000</td>\n",
              "    </tr>\n",
              "    <tr>\n",
              "      <th id=\"T_81099_level0_row13\" class=\"row_heading level0 row13\" >f14</th>\n",
              "      <td id=\"T_81099_row13_col0\" class=\"data row13 col0\" >2500.000000</td>\n",
              "      <td id=\"T_81099_row13_col1\" class=\"data row13 col1\" >0.238933</td>\n",
              "      <td id=\"T_81099_row13_col2\" class=\"data row13 col2\" >0.000000</td>\n",
              "      <td id=\"T_81099_row13_col3\" class=\"data row13 col3\" >0.238933</td>\n",
              "      <td id=\"T_81099_row13_col4\" class=\"data row13 col4\" >0.238933</td>\n",
              "      <td id=\"T_81099_row13_col5\" class=\"data row13 col5\" >0.238933</td>\n",
              "      <td id=\"T_81099_row13_col6\" class=\"data row13 col6\" >0.238933</td>\n",
              "      <td id=\"T_81099_row13_col7\" class=\"data row13 col7\" >0.238933</td>\n",
              "    </tr>\n",
              "    <tr>\n",
              "      <th id=\"T_81099_level0_row14\" class=\"row_heading level0 row14\" >target</th>\n",
              "      <td id=\"T_81099_row14_col0\" class=\"data row14 col0\" >2500.000000</td>\n",
              "      <td id=\"T_81099_row14_col1\" class=\"data row14 col1\" >0.234800</td>\n",
              "      <td id=\"T_81099_row14_col2\" class=\"data row14 col2\" >0.423959</td>\n",
              "      <td id=\"T_81099_row14_col3\" class=\"data row14 col3\" >0.000000</td>\n",
              "      <td id=\"T_81099_row14_col4\" class=\"data row14 col4\" >0.000000</td>\n",
              "      <td id=\"T_81099_row14_col5\" class=\"data row14 col5\" >0.000000</td>\n",
              "      <td id=\"T_81099_row14_col6\" class=\"data row14 col6\" >0.000000</td>\n",
              "      <td id=\"T_81099_row14_col7\" class=\"data row14 col7\" >1.000000</td>\n",
              "    </tr>\n",
              "  </tbody>\n",
              "</table>\n"
            ]
          },
          "metadata": {},
          "execution_count": 16
        }
      ]
    },
    {
      "cell_type": "code",
      "source": [
        "correlation_matrix = Xtest.corr()\n",
        "mask = np.triu(np.ones_like(correlation_matrix, dtype=bool))\n",
        "\n",
        "plt.figure(figsize=(12, 8))\n",
        "sns.heatmap(correlation_matrix, annot=True, mask=mask, cmap='coolwarm', vmax=1, vmin=-1, center=0,\n",
        "            square=True, linewidths=.5, annot_kws={\"size\": 10},\n",
        "            cbar_kws={\"shrink\": 0.8, \"orientation\": \"vertical\", \"ticks\": [-1, -0.5, 0, 0.5, 1]})\n",
        "plt.title('Матрица корреляций между числовыми переменными')\n",
        "plt.show()"
      ],
      "metadata": {
        "id": "v2Ueb9Z_54Ry",
        "colab": {
          "base_uri": "https://localhost:8080/",
          "height": 699
        },
        "outputId": "f1991e7d-1907-4fb5-da05-32430640f4bc"
      },
      "execution_count": 17,
      "outputs": [
        {
          "output_type": "display_data",
          "data": {
            "text/plain": [
              "<Figure size 1200x800 with 2 Axes>"
            ],
            "image/png": "[encoded data removed]"
          },
          "metadata": {}
        }
      ]
    },
    {
      "cell_type": "markdown",
      "source": [
        "Замечаем, что признаки f2, f4, f6, f7, f8, f9, f10, f14 в наборе Xtest не имеют стандартного отклонения, все значения постоянны. Таким образом, они зашумляют модель, можно их вообще исключить из моделей (как обучающей, так и тестовой)."
      ],
      "metadata": {
        "id": "-ZFrSACz8eiB"
      }
    },
    {
      "cell_type": "markdown",
      "metadata": {
        "id": "oQkpwQGHtWcr"
      },
      "source": [
        "### 2. Оцените баланс классов в задаче\n",
        "- Затем попытайтесь устно ответить на вопрос, можно ли использовать accuracy как метрику качества в задаче?"
      ]
    },
    {
      "cell_type": "markdown",
      "source": [
        "При дисбалансе классов, как в нашем случае, не рекомендуется использовать метрику accuracy, т к она не учитывает это дисбаланс. Рекоментуются precision, recall, ROC AUC"
      ],
      "metadata": {
        "id": "2lTL_RuFCwF0"
      }
    },
    {
      "cell_type": "markdown",
      "metadata": {
        "id": "xB_ReQ62tWct"
      },
      "source": [
        "### 3. Постройте baseline-модель:\n",
        "- разбейте TrainData на тренировочные (Train) и тестовые данные (Test);\n",
        "- обучите LogisticRegression и SVC с параметрами по умолчанию на тренировочных данных (Train);\n",
        "- примените модели на тестовых данных (Test)."
      ]
    },
    {
      "cell_type": "code",
      "source": [
        "from sklearn.linear_model import LogisticRegression\n",
        "from sklearn.metrics import accuracy_score, precision_score, recall_score, f1_score, roc_auc_score\n",
        "from sklearn import preprocessing\n",
        "from sklearn.model_selection import train_test_split\n",
        "from sklearn.metrics import classification_report\n",
        "from imblearn.over_sampling import SMOTE"
      ],
      "metadata": {
        "id": "2FCO1ZYDZO1x"
      },
      "execution_count": 35,
      "outputs": []
    },
    {
      "cell_type": "code",
      "source": [
        "X1 = Xtrain.drop('target', axis=1)\n",
        "y1 = Xtrain['target']\n",
        "\n",
        "X_train, X_test, y_train, y_test = train_test_split(X1, y1, test_size=0.3, random_state=42)"
      ],
      "metadata": {
        "id": "IZQAuGdIZgdG"
      },
      "execution_count": 36,
      "outputs": []
    },
    {
      "cell_type": "markdown",
      "source": [
        "Строим модель логистической регрессии Base-Line, оцениваем ее точность"
      ],
      "metadata": {
        "id": "3sTHn--3bkdy"
      }
    },
    {
      "cell_type": "code",
      "execution_count": 37,
      "metadata": {
        "id": "WUfRVj5ctWcu",
        "colab": {
          "base_uri": "https://localhost:8080/"
        },
        "outputId": "1d699c70-81d8-44f4-b8e9-b6b8cc4f998e"
      },
      "outputs": [
        {
          "output_type": "stream",
          "name": "stdout",
          "text": [
            "              precision    recall  f1-score   support\n",
            "\n",
            "           0       0.80      0.96      0.88      1704\n",
            "           1       0.69      0.26      0.38       546\n",
            "\n",
            "    accuracy                           0.79      2250\n",
            "   macro avg       0.75      0.61      0.63      2250\n",
            "weighted avg       0.78      0.79      0.76      2250\n",
            "\n"
          ]
        },
        {
          "output_type": "stream",
          "name": "stderr",
          "text": [
            "/usr/local/lib/python3.10/dist-packages/sklearn/linear_model/_logistic.py:469: ConvergenceWarning: lbfgs failed to converge (status=1):\n",
            "STOP: TOTAL NO. of ITERATIONS REACHED LIMIT.\n",
            "\n",
            "Increase the number of iterations (max_iter) or scale the data as shown in:\n",
            "    https://scikit-learn.org/stable/modules/preprocessing.html\n",
            "Please also refer to the documentation for alternative solver options:\n",
            "    https://scikit-learn.org/stable/modules/linear_model.html#logistic-regression\n",
            "  n_iter_i = _check_optimize_result(\n"
          ]
        }
      ],
      "source": [
        "model1 = LogisticRegression(max_iter=1000)\n",
        "model1.fit(X_train, y_train)\n",
        "\n",
        "y_pred1 = model1.predict(X_test)\n",
        "print(classification_report(y_test, y_pred1))\n"
      ]
    },
    {
      "cell_type": "code",
      "source": [
        "print(\"Точность:\", accuracy_score(y_test, y_pred1))\n",
        "print(\"Точность:\", precision_score(y_test, y_pred1, average = 'binary'))\n",
        "print(\"Полнота:\", recall_score(y_test, y_pred1, average = 'binary'))\n",
        "print(\"F1-мера:\", f1_score(y_test, y_pred1, average = 'binary'))\n",
        "print(\"AUC:\", roc_auc_score(y_test, y_pred1))"
      ],
      "metadata": {
        "id": "SdAP01y5aiSX",
        "colab": {
          "base_uri": "https://localhost:8080/"
        },
        "outputId": "766fb406-6ed4-447e-ca75-cd1ac84ffed1"
      },
      "execution_count": 38,
      "outputs": [
        {
          "output_type": "stream",
          "name": "stdout",
          "text": [
            "Точность: 0.7928888888888889\n",
            "Точность: 0.6923076923076923\n",
            "Полнота: 0.26373626373626374\n",
            "F1-мера: 0.3819628647214854\n",
            "AUC: 0.6130887891451272\n"
          ]
        }
      ]
    },
    {
      "cell_type": "markdown",
      "source": [
        "68,6% идентифицированных положительных случаев (target = 1) в действительности положительны, 28% всех положительных случаев правильно идентифицированы моделью"
      ],
      "metadata": {
        "id": "fQdq16GOcoBz"
      }
    },
    {
      "cell_type": "markdown",
      "source": [
        "Строим модель опорных векторов Base-Line, оцениваем ее точность"
      ],
      "metadata": {
        "id": "muNqNLPtbxd3"
      }
    },
    {
      "cell_type": "code",
      "source": [
        "model2 = SVC()\n",
        "model2.fit(X_train, y_train)\n",
        "y_pred2 = model2.predict(X_test)\n",
        "\n",
        "print(classification_report(y_test, y_pred2))\n"
      ],
      "metadata": {
        "id": "mfJ__Nl2bi9c",
        "colab": {
          "base_uri": "https://localhost:8080/"
        },
        "outputId": "2c64c965-6b21-45e1-f551-77c8ba88734d"
      },
      "execution_count": 39,
      "outputs": [
        {
          "output_type": "stream",
          "name": "stdout",
          "text": [
            "              precision    recall  f1-score   support\n",
            "\n",
            "           0       0.77      1.00      0.87      1704\n",
            "           1       0.92      0.04      0.08       546\n",
            "\n",
            "    accuracy                           0.77      2250\n",
            "   macro avg       0.84      0.52      0.48      2250\n",
            "weighted avg       0.80      0.77      0.68      2250\n",
            "\n"
          ]
        }
      ]
    },
    {
      "cell_type": "code",
      "source": [
        "print(\"Точность:\", accuracy_score(y_test, y_pred2))\n",
        "print(\"Точность:\", precision_score(y_test, y_pred2, average = 'binary'))\n",
        "print(\"Полнота:\", recall_score(y_test, y_pred2, average = 'binary'))\n",
        "print(\"F1-мера:\", f1_score(y_test, y_pred2, average = 'binary'))\n",
        "print(\"AUC:\", roc_auc_score(y_test, y_pred2))"
      ],
      "metadata": {
        "id": "GrjCRuaScH0R",
        "colab": {
          "base_uri": "https://localhost:8080/"
        },
        "outputId": "cd42621b-ee26-44de-87ad-4a882b4a6c7b"
      },
      "execution_count": 40,
      "outputs": [
        {
          "output_type": "stream",
          "name": "stdout",
          "text": [
            "Точность: 0.7671111111111111\n",
            "Точность: 0.9230769230769231\n",
            "Полнота: 0.04395604395604396\n",
            "F1-мера: 0.08391608391608392\n",
            "AUC: 0.5213911675179281\n"
          ]
        }
      ]
    },
    {
      "cell_type": "markdown",
      "source": [
        "показатель полноты близок к 0 , AUC около 0,5 - низкое предскаталеьное качество модели на минорном классе целевого признака"
      ],
      "metadata": {
        "id": "VRf_ywg0cSAI"
      }
    },
    {
      "cell_type": "markdown",
      "metadata": {
        "id": "KYQnr8CftWcv"
      },
      "source": [
        "### 4. Улучшите модели\n",
        "Попробуйте улучшить качество обученных моделей:\n",
        "- можете задавать class_weights;\n",
        "- можете изменять параметры модели;\n",
        "- можете вручную или при помощи методов Python генерировать новые признаки и/или удалять существующие.\n",
        "\n",
        "Это самая важная и творческая часть задания. Проводите как можно больше экспериментов!\n",
        "\n",
        "Проведите минимиум три эксперимента: для каждого типа модели минимум один эксперимент."
      ]
    },
    {
      "cell_type": "markdown",
      "source": [
        "*1. Меняем параметр классификации тестового и обучающего набора на стратифицированную выборку *"
      ],
      "metadata": {
        "id": "LK48cmzRdHX_"
      }
    },
    {
      "cell_type": "code",
      "source": [
        "X2 = Xtrain.drop('target', axis=1)\n",
        "y2 = Xtrain['target']\n",
        "\n",
        "X_train, X_test, y_train, y_test = train_test_split(X2, y2, test_size=0.3, stratify=y2, random_state=42)"
      ],
      "metadata": {
        "id": "0OCHYWlfdF3F"
      },
      "execution_count": 43,
      "outputs": []
    },
    {
      "cell_type": "markdown",
      "source": [
        "Строим модель логистической регрессии и модель опорных векторов, оцениваем их качество"
      ],
      "metadata": {
        "id": "Ih75TlYBdyPK"
      }
    },
    {
      "cell_type": "code",
      "source": [
        "model3 = LogisticRegression(max_iter=1000)\n",
        "model3.fit(X_train, y_train)\n",
        "\n",
        "y_pred3 = model3.predict(X_test)\n",
        "print(classification_report(y_test, y_pred3))"
      ],
      "metadata": {
        "id": "C587s40VdxvA",
        "colab": {
          "base_uri": "https://localhost:8080/"
        },
        "outputId": "4cf358d6-67d4-4227-d9ef-c62fa6a020aa"
      },
      "execution_count": 44,
      "outputs": [
        {
          "output_type": "stream",
          "name": "stdout",
          "text": [
            "              precision    recall  f1-score   support\n",
            "\n",
            "           0       0.81      0.96      0.88      1712\n",
            "           1       0.69      0.28      0.40       538\n",
            "\n",
            "    accuracy                           0.80      2250\n",
            "   macro avg       0.75      0.62      0.64      2250\n",
            "weighted avg       0.78      0.80      0.76      2250\n",
            "\n"
          ]
        },
        {
          "output_type": "stream",
          "name": "stderr",
          "text": [
            "/usr/local/lib/python3.10/dist-packages/sklearn/linear_model/_logistic.py:469: ConvergenceWarning: lbfgs failed to converge (status=1):\n",
            "STOP: TOTAL NO. of ITERATIONS REACHED LIMIT.\n",
            "\n",
            "Increase the number of iterations (max_iter) or scale the data as shown in:\n",
            "    https://scikit-learn.org/stable/modules/preprocessing.html\n",
            "Please also refer to the documentation for alternative solver options:\n",
            "    https://scikit-learn.org/stable/modules/linear_model.html#logistic-regression\n",
            "  n_iter_i = _check_optimize_result(\n"
          ]
        }
      ]
    },
    {
      "cell_type": "code",
      "source": [
        "print(\"Точность:\", accuracy_score(y_test, y_pred3))\n",
        "print(\"Точность:\", precision_score(y_test, y_pred3, average = 'binary'))\n",
        "print(\"Полнота:\", recall_score(y_test, y_pred3, average = 'binary'))\n",
        "print(\"F1-мера:\", f1_score(y_test, y_pred3, average = 'binary'))\n",
        "print(\"AUC:\", roc_auc_score(y_test, y_pred3))"
      ],
      "metadata": {
        "id": "HXn9IxZYeNa_",
        "colab": {
          "base_uri": "https://localhost:8080/"
        },
        "outputId": "43bd4322-7720-4614-f62d-20b7fd15e191"
      },
      "execution_count": 26,
      "outputs": [
        {
          "output_type": "stream",
          "name": "stdout",
          "text": [
            "Точность: 0.7973333333333333\n",
            "Точность: 0.6863636363636364\n",
            "Полнота: 0.28066914498141265\n",
            "F1-мера: 0.39841688654353563\n",
            "AUC: 0.6201827033318278\n"
          ]
        }
      ]
    },
    {
      "cell_type": "code",
      "source": [
        "model4 = SVC()\n",
        "model4.fit(X_train, y_train)\n",
        "y_pred4 = model4.predict(X_test)\n",
        "\n",
        "print(classification_report(y_test, y_pred4))"
      ],
      "metadata": {
        "id": "m7D-YSPxeRRB",
        "colab": {
          "base_uri": "https://localhost:8080/"
        },
        "outputId": "6790293a-fe47-431c-8375-91c33c6f9caf"
      },
      "execution_count": 27,
      "outputs": [
        {
          "output_type": "stream",
          "name": "stdout",
          "text": [
            "              precision    recall  f1-score   support\n",
            "\n",
            "           0       0.77      1.00      0.87      1712\n",
            "           1       0.95      0.04      0.07       538\n",
            "\n",
            "    accuracy                           0.77      2250\n",
            "   macro avg       0.86      0.52      0.47      2250\n",
            "weighted avg       0.81      0.77      0.68      2250\n",
            "\n"
          ]
        }
      ]
    },
    {
      "cell_type": "code",
      "source": [
        "print(\"Точность:\", accuracy_score(y_test, y_pred4))\n",
        "print(\"Точность:\", precision_score(y_test, y_pred4, average = 'binary'))\n",
        "print(\"Полнота:\", recall_score(y_test, y_pred4, average = 'binary'))\n",
        "print(\"F1-мера:\", f1_score(y_test, y_pred4, average = 'binary'))\n",
        "print(\"AUC:\", roc_auc_score(y_test, y_pred4))"
      ],
      "metadata": {
        "id": "azg4WaxneVoZ",
        "colab": {
          "base_uri": "https://localhost:8080/"
        },
        "outputId": "a68aaa11-821b-4016-f2b6-86e89ae119d5"
      },
      "execution_count": 28,
      "outputs": [
        {
          "output_type": "stream",
          "name": "stdout",
          "text": [
            "Точность: 0.7697777777777778\n",
            "Точность: 0.9545454545454546\n",
            "Полнота: 0.03903345724907063\n",
            "F1-мера: 0.075\n",
            "AUC: 0.519224672549769\n"
          ]
        }
      ]
    },
    {
      "cell_type": "markdown",
      "source": [
        "2. Строим модели опорных векторов с разными параметрами"
      ],
      "metadata": {
        "id": "YopXv3qLgUqq"
      }
    },
    {
      "cell_type": "markdown",
      "source": [
        "Сигмоидальное ядро"
      ],
      "metadata": {
        "id": "D_RVal3miiWH"
      }
    },
    {
      "cell_type": "code",
      "source": [
        "model5 = SVC(kernel='sigmoid')\n",
        "model5.fit(X_train, y_train)\n",
        "y_pred5 = model5.predict(X_test)\n",
        "print(classification_report(y_test, y_pred5))"
      ],
      "metadata": {
        "id": "Otsc3KEuh0vL",
        "colab": {
          "base_uri": "https://localhost:8080/"
        },
        "outputId": "4264dfbf-ca63-4245-fce0-9d27306ba95b"
      },
      "execution_count": 29,
      "outputs": [
        {
          "output_type": "stream",
          "name": "stdout",
          "text": [
            "              precision    recall  f1-score   support\n",
            "\n",
            "           0       0.78      0.80      0.79      1712\n",
            "           1       0.30      0.28      0.29       538\n",
            "\n",
            "    accuracy                           0.67      2250\n",
            "   macro avg       0.54      0.54      0.54      2250\n",
            "weighted avg       0.66      0.67      0.67      2250\n",
            "\n"
          ]
        }
      ]
    },
    {
      "cell_type": "markdown",
      "source": [
        "Радиальное ядро"
      ],
      "metadata": {
        "id": "ErBPjqGPikzq"
      }
    },
    {
      "cell_type": "code",
      "source": [
        "model6 = SVC(kernel='rbf')\n",
        "model6.fit(X_train, y_train)\n",
        "y_pred6 = model6.predict(X_test)\n",
        "print(classification_report(y_test, y_pred6))"
      ],
      "metadata": {
        "id": "-ribdLlBiYOQ",
        "colab": {
          "base_uri": "https://localhost:8080/"
        },
        "outputId": "22cfb1fd-206d-4c9e-a244-a94902d6041d"
      },
      "execution_count": 30,
      "outputs": [
        {
          "output_type": "stream",
          "name": "stdout",
          "text": [
            "              precision    recall  f1-score   support\n",
            "\n",
            "           0       0.77      1.00      0.87      1712\n",
            "           1       0.95      0.04      0.07       538\n",
            "\n",
            "    accuracy                           0.77      2250\n",
            "   macro avg       0.86      0.52      0.47      2250\n",
            "weighted avg       0.81      0.77      0.68      2250\n",
            "\n"
          ]
        }
      ]
    },
    {
      "cell_type": "markdown",
      "source": [
        "Полиномиальное ядро"
      ],
      "metadata": {
        "id": "CAqtctQTi0Qr"
      }
    },
    {
      "cell_type": "code",
      "source": [
        "model7 = SVC(kernel='poly')\n",
        "model7.fit(X_train, y_train)\n",
        "y_pred7 = model7.predict(X_test)\n",
        "print(classification_report(y_test, y_pred7))"
      ],
      "metadata": {
        "id": "zsIdHRCaid5T",
        "colab": {
          "base_uri": "https://localhost:8080/"
        },
        "outputId": "5e484ef1-779d-41f5-dea1-a8979bf65b43"
      },
      "execution_count": 31,
      "outputs": [
        {
          "output_type": "stream",
          "name": "stdout",
          "text": [
            "              precision    recall  f1-score   support\n",
            "\n",
            "           0       0.77      1.00      0.87      1712\n",
            "           1       0.94      0.05      0.10       538\n",
            "\n",
            "    accuracy                           0.77      2250\n",
            "   macro avg       0.85      0.53      0.49      2250\n",
            "weighted avg       0.81      0.77      0.69      2250\n",
            "\n"
          ]
        }
      ]
    },
    {
      "cell_type": "markdown",
      "source": [
        "Сигмоидальное ядро, сбалансированные классы"
      ],
      "metadata": {
        "id": "3jxeWhJiht0c"
      }
    },
    {
      "cell_type": "code",
      "source": [
        "model8 = SVC(kernel='sigmoid', class_weight='balanced')\n",
        "model8.fit(X_train, y_train)\n",
        "y_pred8 = model8.predict(X_test)\n",
        "print(classification_report(y_test, y_pred8))"
      ],
      "metadata": {
        "id": "lICEDGiOkSdO",
        "colab": {
          "base_uri": "https://localhost:8080/"
        },
        "outputId": "88912220-f60f-4734-d291-699fb10e5ea4"
      },
      "execution_count": 32,
      "outputs": [
        {
          "output_type": "stream",
          "name": "stdout",
          "text": [
            "              precision    recall  f1-score   support\n",
            "\n",
            "           0       0.78      0.53      0.63      1712\n",
            "           1       0.26      0.53      0.35       538\n",
            "\n",
            "    accuracy                           0.53      2250\n",
            "   macro avg       0.52      0.53      0.49      2250\n",
            "weighted avg       0.66      0.53      0.56      2250\n",
            "\n"
          ]
        }
      ]
    },
    {
      "cell_type": "code",
      "source": [
        "print(\"Точность:\", accuracy_score(y_test, y_pred8))\n",
        "print(\"Точность:\", precision_score(y_test, y_pred8, average = 'binary'))\n",
        "print(\"Полнота:\", recall_score(y_test, y_pred8, average = 'binary'))\n",
        "print(\"F1-мера:\", f1_score(y_test, y_pred8, average = 'binary'))\n",
        "print(\"AUC:\", roc_auc_score(y_test, y_pred8))"
      ],
      "metadata": {
        "id": "5kV8yTLxknXJ",
        "colab": {
          "base_uri": "https://localhost:8080/"
        },
        "outputId": "89f0daf9-f666-459d-ec9b-31215d1e8b54"
      },
      "execution_count": 33,
      "outputs": [
        {
          "output_type": "stream",
          "name": "stdout",
          "text": [
            "Точность: 0.5302222222222223\n",
            "Точность: 0.26170798898071623\n",
            "Полнота: 0.5297397769516728\n",
            "F1-мера: 0.3503380454824831\n",
            "AUC: 0.530056804363687\n"
          ]
        }
      ]
    },
    {
      "cell_type": "markdown",
      "source": [
        "3. Применяем оверсамплинг SMOTE для минорного класса"
      ],
      "metadata": {
        "id": "UqWNSvIPluFS"
      }
    },
    {
      "cell_type": "code",
      "source": [
        "X_0 = Xtrain.drop('target', axis=1)\n",
        "y_0 = Xtrain['target']\n",
        "smote = SMOTE(sampling_strategy='auto', random_state=None, k_neighbors=5, n_jobs=1)\n",
        "X, y = smote.fit_resample(X_0, y_0)\n",
        "\n",
        "\n",
        "\n",
        "X_train, X_test, y_train, y_test = train_test_split(X, y, test_size=0.4, stratify=y, random_state=42)"
      ],
      "metadata": {
        "id": "J4jeTrjnl4M2",
        "colab": {
          "base_uri": "https://localhost:8080/"
        },
        "outputId": "7b59f826-7a62-4846-85ea-4fecfcc7e505"
      },
      "execution_count": 45,
      "outputs": [
        {
          "output_type": "stream",
          "name": "stderr",
          "text": [
            "/usr/local/lib/python3.10/dist-packages/imblearn/over_sampling/_smote/base.py:370: FutureWarning: The parameter `n_jobs` has been deprecated in 0.10 and will be removed in 0.12. You can pass an nearest neighbors estimator where `n_jobs` is already set instead.\n",
            "  warnings.warn(\n"
          ]
        }
      ]
    },
    {
      "cell_type": "markdown",
      "source": [
        "Строим модель логистической регрессии и опорных векторов (наилучший вариант, полученный на предыдущем этапе)"
      ],
      "metadata": {
        "id": "6RALyv4SmOX7"
      }
    },
    {
      "cell_type": "code",
      "source": [
        "model9 = LogisticRegression(max_iter=1000)\n",
        "model9.fit(X_train, y_train)\n",
        "\n",
        "y_pred9 = model9.predict(X_test)\n",
        "print(classification_report(y_test, y_pred9))"
      ],
      "metadata": {
        "id": "sMkvZinLmMNm",
        "colab": {
          "base_uri": "https://localhost:8080/"
        },
        "outputId": "a5344deb-a109-4f0e-a1f5-11f1dcd53369"
      },
      "execution_count": 46,
      "outputs": [
        {
          "output_type": "stream",
          "name": "stdout",
          "text": [
            "              precision    recall  f1-score   support\n",
            "\n",
            "           0       0.66      0.75      0.70      2284\n",
            "           1       0.71      0.61      0.65      2283\n",
            "\n",
            "    accuracy                           0.68      4567\n",
            "   macro avg       0.68      0.68      0.68      4567\n",
            "weighted avg       0.68      0.68      0.68      4567\n",
            "\n"
          ]
        },
        {
          "output_type": "stream",
          "name": "stderr",
          "text": [
            "/usr/local/lib/python3.10/dist-packages/sklearn/linear_model/_logistic.py:469: ConvergenceWarning: lbfgs failed to converge (status=1):\n",
            "STOP: TOTAL NO. of ITERATIONS REACHED LIMIT.\n",
            "\n",
            "Increase the number of iterations (max_iter) or scale the data as shown in:\n",
            "    https://scikit-learn.org/stable/modules/preprocessing.html\n",
            "Please also refer to the documentation for alternative solver options:\n",
            "    https://scikit-learn.org/stable/modules/linear_model.html#logistic-regression\n",
            "  n_iter_i = _check_optimize_result(\n"
          ]
        }
      ]
    },
    {
      "cell_type": "code",
      "source": [
        "model10 = SVC(kernel='sigmoid', class_weight='balanced')\n",
        "model10.fit(X_train, y_train)\n",
        "y_pred10 = model10.predict(X_test)\n",
        "print(classification_report(y_test, y_pred10))"
      ],
      "metadata": {
        "id": "ZXAXPHStmvwe",
        "colab": {
          "base_uri": "https://localhost:8080/"
        },
        "outputId": "b9757fb2-1492-4aff-f807-2e50b6ca0a60"
      },
      "execution_count": 47,
      "outputs": [
        {
          "output_type": "stream",
          "name": "stdout",
          "text": [
            "              precision    recall  f1-score   support\n",
            "\n",
            "           0       0.53      0.53      0.53      2284\n",
            "           1       0.53      0.53      0.53      2283\n",
            "\n",
            "    accuracy                           0.53      4567\n",
            "   macro avg       0.53      0.53      0.53      4567\n",
            "weighted avg       0.53      0.53      0.53      4567\n",
            "\n"
          ]
        }
      ]
    },
    {
      "cell_type": "markdown",
      "source": [
        "4. Проверяем лучшие модели на класса Xtest"
      ],
      "metadata": {
        "id": "Xn6gqRP0m7sm"
      }
    },
    {
      "cell_type": "code",
      "source": [
        "X3 = Xtest.drop('target', axis=1)\n",
        "y3 = Xtest['target']\n",
        "\n",
        "X_train, X_test, y_train, y_test = train_test_split(X3, y3, test_size=0.9, stratify=y3, random_state=42)"
      ],
      "metadata": {
        "id": "ZU61D6-2tONR"
      },
      "execution_count": 49,
      "outputs": []
    },
    {
      "cell_type": "markdown",
      "source": [
        "Выбираем 3, 8, 9, 10 модели"
      ],
      "metadata": {
        "id": "47h2BUpct0-3"
      }
    },
    {
      "cell_type": "code",
      "source": [
        "y_pred3_t = model3.predict(X_test)\n",
        "print(\"Точность:\", accuracy_score(y_test, y_pred3_t))\n",
        "print(\"Точность:\", precision_score(y_test, y_pred3_t, average = 'binary'))\n",
        "print(\"Полнота:\", recall_score(y_test, y_pred3_t, average = 'binary'))\n",
        "print(\"F1-мера:\", f1_score(y_test, y_pred3_t, average = 'binary'))\n",
        "print(\"AUC:\", roc_auc_score(y_test, y_pred3_t))"
      ],
      "metadata": {
        "colab": {
          "base_uri": "https://localhost:8080/"
        },
        "id": "U-nivT4vtbnt",
        "outputId": "83da3989-7d45-4eff-de2b-5de03cbbd066"
      },
      "execution_count": 50,
      "outputs": [
        {
          "output_type": "stream",
          "name": "stdout",
          "text": [
            "Точность: 0.8066666666666666\n",
            "Точность: 0.729064039408867\n",
            "Полнота: 0.2803030303030303\n",
            "F1-мера: 0.4049247606019152\n",
            "AUC: 0.6241817125963467\n"
          ]
        }
      ]
    },
    {
      "cell_type": "code",
      "source": [
        "y_pred8_t = model8.predict(X_test)\n",
        "print(\"Точность:\", accuracy_score(y_test, y_pred8_t))\n",
        "print(\"Точность:\", precision_score(y_test, y_pred8_t, average = 'binary'))\n",
        "print(\"Полнота:\", recall_score(y_test, y_pred8_t, average = 'binary'))\n",
        "print(\"F1-мера:\", f1_score(y_test, y_pred8_t, average = 'binary'))\n",
        "print(\"AUC:\", roc_auc_score(y_test, y_pred8_t))"
      ],
      "metadata": {
        "colab": {
          "base_uri": "https://localhost:8080/"
        },
        "id": "mtFMjfhkuopW",
        "outputId": "e8dfbc63-1ace-42e9-c980-1cc8b9e0d06e"
      },
      "execution_count": 51,
      "outputs": [
        {
          "output_type": "stream",
          "name": "stdout",
          "text": [
            "Точность: 0.5431111111111111\n",
            "Точность: 0.26591760299625467\n",
            "Полнота: 0.5378787878787878\n",
            "F1-мера: 0.3558897243107769\n",
            "AUC: 0.5412971175166297\n"
          ]
        }
      ]
    },
    {
      "cell_type": "code",
      "source": [
        "y_pred9_t = model9.predict(X_test)\n",
        "print(\"Точность:\", accuracy_score(y_test, y_pred9_t))\n",
        "print(\"Точность:\", precision_score(y_test, y_pred9_t, average = 'binary'))\n",
        "print(\"Полнота:\", recall_score(y_test, y_pred9_t, average = 'binary'))\n",
        "print(\"F1-мера:\", f1_score(y_test, y_pred9_t, average = 'binary'))\n",
        "print(\"AUC:\", roc_auc_score(y_test, y_pred9_t))"
      ],
      "metadata": {
        "colab": {
          "base_uri": "https://localhost:8080/"
        },
        "id": "BSl5SqFUuziD",
        "outputId": "9964fac2-57ad-4934-ca9c-961edd54a0f2"
      },
      "execution_count": 52,
      "outputs": [
        {
          "output_type": "stream",
          "name": "stdout",
          "text": [
            "Точность: 0.7195555555555555\n",
            "Точность: 0.40337711069418386\n",
            "Полнота: 0.4071969696969697\n",
            "F1-мера: 0.4052780395852969\n",
            "AUC: 0.6112639900749657\n"
          ]
        }
      ]
    },
    {
      "cell_type": "code",
      "source": [
        "y_pred10_t = model10.predict(X_test)\n",
        "print(\"Точность:\", accuracy_score(y_test, y_pred10_t))\n",
        "print(\"Точность:\", precision_score(y_test, y_pred10_t, average = 'binary'))\n",
        "print(\"Полнота:\", recall_score(y_test, y_pred10_t, average = 'binary'))\n",
        "print(\"F1-мера:\", f1_score(y_test, y_pred10_t, average = 'binary'))\n",
        "print(\"AUC:\", roc_auc_score(y_test, y_pred10_t))"
      ],
      "metadata": {
        "colab": {
          "base_uri": "https://localhost:8080/"
        },
        "id": "yPYVa66Mu6xD",
        "outputId": "21d9847a-c7cf-48a2-90ec-d16a81edb24c"
      },
      "execution_count": 53,
      "outputs": [
        {
          "output_type": "stream",
          "name": "stdout",
          "text": [
            "Точность: 0.5413333333333333\n",
            "Точность: 0.2644859813084112\n",
            "Полнота: 0.5359848484848485\n",
            "F1-мера: 0.3541927409261577\n",
            "AUC: 0.5394790676802872\n"
          ]
        }
      ]
    },
    {
      "cell_type": "markdown",
      "source": [
        "Удалось добиться показателей precision 0.4 и recall 0.4 у модели логистической регрессии и показателя precision 0.26 и recall 0.53 у модли опорных векторов."
      ],
      "metadata": {
        "id": "dalPjk1PyzcX"
      }
    },
    {
      "cell_type": "markdown",
      "source": [
        "5. Удалим зашумляющую модель признаки f2, f4. f6, f7, f8, f9, f10, f14. Переобучим модели"
      ],
      "metadata": {
        "id": "TeFkl652vK5c"
      }
    },
    {
      "cell_type": "code",
      "source": [
        "df1= Xtrain.drop(['f2', 'f4', 'f6', 'f7', 'f8', 'f9', 'f10', 'f14'], axis=1)"
      ],
      "metadata": {
        "id": "bPrYQXnvvgmq"
      },
      "execution_count": 57,
      "outputs": []
    },
    {
      "cell_type": "code",
      "source": [
        "df2= Xtest.drop(['f2', 'f4', 'f6', 'f7', 'f8', 'f9', 'f10', 'f14'], axis=1)"
      ],
      "metadata": {
        "id": "S-jUqX0FwuoW"
      },
      "execution_count": 59,
      "outputs": []
    },
    {
      "cell_type": "code",
      "source": [
        "X_0 = df1.drop('target', axis=1)\n",
        "y_0 = df1['target']\n",
        "smote = SMOTE(sampling_strategy='auto', random_state=None, k_neighbors=5, n_jobs=1)\n",
        "X, y = smote.fit_resample(X_0, y_0)\n",
        "X_train, X_test, y_train, y_test = train_test_split(X, y, test_size=0.4, stratify=y, random_state=42)\n"
      ],
      "metadata": {
        "colab": {
          "base_uri": "https://localhost:8080/"
        },
        "id": "YesRiyaMwzaN",
        "outputId": "0eb8ea3c-ecbc-4ab8-8673-b6d1e0863986"
      },
      "execution_count": 58,
      "outputs": [
        {
          "output_type": "stream",
          "name": "stderr",
          "text": [
            "/usr/local/lib/python3.10/dist-packages/imblearn/over_sampling/_smote/base.py:370: FutureWarning: The parameter `n_jobs` has been deprecated in 0.10 and will be removed in 0.12. You can pass an nearest neighbors estimator where `n_jobs` is already set instead.\n",
            "  warnings.warn(\n"
          ]
        }
      ]
    },
    {
      "cell_type": "code",
      "source": [
        "model11 = LogisticRegression(max_iter=1000)\n",
        "model11.fit(X_train, y_train)\n",
        "\n",
        "y_pred11 = model11.predict(X_test)\n",
        "print(classification_report(y_test, y_pred11))"
      ],
      "metadata": {
        "colab": {
          "base_uri": "https://localhost:8080/"
        },
        "id": "ZGwENJqQxR0y",
        "outputId": "9f118ddf-6915-4ad6-d8c5-32d3a62fb50d"
      },
      "execution_count": 60,
      "outputs": [
        {
          "output_type": "stream",
          "name": "stdout",
          "text": [
            "              precision    recall  f1-score   support\n",
            "\n",
            "           0       0.71      0.74      0.72      2284\n",
            "           1       0.73      0.69      0.71      2283\n",
            "\n",
            "    accuracy                           0.72      4567\n",
            "   macro avg       0.72      0.72      0.72      4567\n",
            "weighted avg       0.72      0.72      0.72      4567\n",
            "\n"
          ]
        }
      ]
    },
    {
      "cell_type": "code",
      "source": [
        "model12 = SVC(kernel='sigmoid', class_weight='balanced')\n",
        "model12.fit(X_train, y_train)\n",
        "y_pred12 = model12.predict(X_test)\n",
        "print(classification_report(y_test, y_pred12))"
      ],
      "metadata": {
        "colab": {
          "base_uri": "https://localhost:8080/"
        },
        "id": "N9qDLJH9xePn",
        "outputId": "954facc3-dba5-49a2-a55d-4cc700dc49c6"
      },
      "execution_count": 61,
      "outputs": [
        {
          "output_type": "stream",
          "name": "stdout",
          "text": [
            "              precision    recall  f1-score   support\n",
            "\n",
            "           0       0.54      0.54      0.54      2284\n",
            "           1       0.54      0.54      0.54      2283\n",
            "\n",
            "    accuracy                           0.54      4567\n",
            "   macro avg       0.54      0.54      0.54      4567\n",
            "weighted avg       0.54      0.54      0.54      4567\n",
            "\n"
          ]
        }
      ]
    },
    {
      "cell_type": "code",
      "source": [
        "X4 = df2.drop('target', axis=1)\n",
        "y4 = df2['target']\n",
        "\n",
        "X_train, X_test, y_train, y_test = train_test_split(X4, y4, test_size=0.9, stratify=y4, random_state=42)"
      ],
      "metadata": {
        "id": "5w05Odc8xYaw"
      },
      "execution_count": 62,
      "outputs": []
    },
    {
      "cell_type": "code",
      "source": [
        "y_pred11_t = model11.predict(X_test)\n",
        "print(\"Точность:\", accuracy_score(y_test, y_pred11_t))\n",
        "print(\"Точность:\", precision_score(y_test, y_pred11_t, average = 'binary'))\n",
        "print(\"Полнота:\", recall_score(y_test, y_pred11_t, average = 'binary'))\n",
        "print(\"F1-мера:\", f1_score(y_test, y_pred11_t, average = 'binary'))\n",
        "print(\"AUC:\", roc_auc_score(y_test, y_pred11_t))"
      ],
      "metadata": {
        "colab": {
          "base_uri": "https://localhost:8080/"
        },
        "id": "Evms2NizyD53",
        "outputId": "a5ab9701-2c49-4c09-e647-a98d3ae3673f"
      },
      "execution_count": 63,
      "outputs": [
        {
          "output_type": "stream",
          "name": "stdout",
          "text": [
            "Точность: 0.7608888888888888\n",
            "Точность: 0.49362244897959184\n",
            "Полнота: 0.7329545454545454\n",
            "F1-мера: 0.5899390243902439\n",
            "AUC: 0.7512043342836026\n"
          ]
        }
      ]
    },
    {
      "cell_type": "code",
      "source": [
        "y_pred12_t = model12.predict(X_test)\n",
        "print(\"Точность:\", accuracy_score(y_test, y_pred12_t))\n",
        "print(\"Точность:\", precision_score(y_test, y_pred12_t, average = 'binary'))\n",
        "print(\"Полнота:\", recall_score(y_test, y_pred12_t, average = 'binary'))\n",
        "print(\"F1-мера:\", f1_score(y_test, y_pred12_t, average = 'binary'))\n",
        "print(\"AUC:\", roc_auc_score(y_test, y_pred12_t))"
      ],
      "metadata": {
        "colab": {
          "base_uri": "https://localhost:8080/"
        },
        "id": "a2vlQ4q_yWPh",
        "outputId": "d729bc32-e02c-4306-870a-52a1201737c5"
      },
      "execution_count": 64,
      "outputs": [
        {
          "output_type": "stream",
          "name": "stdout",
          "text": [
            "Точность: 0.54\n",
            "Точность: 0.2641860465116279\n",
            "Полнота: 0.5378787878787878\n",
            "F1-мера: 0.3543356207111666\n",
            "AUC: 0.5392645971914264\n"
          ]
        }
      ]
    },
    {
      "cell_type": "markdown",
      "source": [
        "Удалось добиться показателей precision 0.49 и recall 0.73 у модели логистической регрессии и показателя precision 0.26 и recall 0.54 у модели опорных векторов. Проверим, сможем ли добыиться аналогичных результатов, кобинируя две лучшие модели до удаления зашумляющих признаков (модели 9 и 10)"
      ],
      "metadata": {
        "id": "QXvggHtj0ZLz"
      }
    },
    {
      "cell_type": "markdown",
      "metadata": {
        "id": "YZT0rMuStWcz"
      },
      "source": [
        "### 6. Выполните хитрый трюк\n",
        "Часто смешивание различных моделей даёт улучшение итогового предсказания. Попробуйте смешать две лучшие модели по формуле:\n",
        "$$pred_{final} = \\alpha\\cdot pred_1 + (1-\\alpha)\\cdot pred_2$$.\n",
        "\n",
        "Значение $\\alpha$ подберите в цикле по Test-выборке. Оцените качество на отложенной выборке.\n",
        "\n",
        "Удалось ли добиться улучшения качества?"
      ]
    },
    {
      "cell_type": "code",
      "execution_count": 65,
      "metadata": {
        "id": "3DdSsk6gtWc7",
        "colab": {
          "base_uri": "https://localhost:8080/"
        },
        "outputId": "781473fb-eb6f-43c4-b83c-14b20a5d2f94"
      },
      "outputs": [
        {
          "output_type": "stream",
          "name": "stdout",
          "text": [
            "f1=0.4052780395852969, true_alpha=1.0\n",
            "Точность: 0.40337711069418386\n",
            "Полнота: 0.4071969696969697\n"
          ]
        }
      ],
      "source": [
        "for i in range(0, 101):\n",
        "    alpha = i / 100\n",
        "    pred = (alpha * y_pred9_t + (1 - alpha) * y_pred10_t).astype(int)\n",
        "    true_alpha = 0\n",
        "    f1 = 0\n",
        "    if f1_score(y_test, pred) > f1:\n",
        "      true_alpha = alpha\n",
        "      f1 = f1_score(y_test, pred)\n",
        "\n",
        "\n",
        "print(f'{f1=}, {true_alpha=}')\n",
        "pred_final = (true_alpha * y_pred9_t + (1 - true_alpha) * y_pred10_t).astype(int)\n",
        "print(\"Точность:\", precision_score(y_test, pred_final, average = 'binary'))\n",
        "print(\"Полнота:\", recall_score(y_test, pred_final, average = 'binary'))"
      ]
    },
    {
      "cell_type": "markdown",
      "source": [
        "Комбинирование моделей 9 и 10 не дало такой же результат, как удаление зашумляющих признаков"
      ],
      "metadata": {
        "id": "kQaWx3to46xo"
      }
    },
    {
      "cell_type": "markdown",
      "metadata": {
        "id": "9b9imFkLtWc8"
      },
      "source": [
        "### 7. Сделайте выводы\n",
        "\n",
        "Запишите в отдельной ячейке текстом выводы о проделанной работе. Для этого ответьте на вопросы:\n",
        "- Какие подходы вы использовали для улучшения работы baseline-моделей?\n",
        "- Какого максимального качества удалось добиться на Test-данных?\n",
        "- Какое при этом получилось качество на отложенной выборке?\n",
        "- Ваша модель переобучилась, недообучилась или обучилась как надо?"
      ]
    },
    {
      "cell_type": "markdown",
      "source": [
        "При помощи удаления зашумляющих признаков, применение оверсемплинга и кластеризации для разделения обучающей и тестовой выборки удалось добиться максимальных показателей на тестовом наборе данных для модели логистической регрессии:\n",
        "Точность (accuracy): 0.7608888888888888\n",
        "Точность (precision): 0.49362244897959184\n",
        "Полнота (recall): 0.7329545454545454\n",
        "F1-мера: 0.5899390243902439\n",
        "AUC: 0.7512043342836026"
      ],
      "metadata": {
        "id": "lFrQKiGM5FU6"
      }
    },
    {
      "cell_type": "markdown",
      "metadata": {
        "id": "cnFjm55atWc-"
      },
      "source": [
        "Важный комментарий! В реальных задачах не следует ожидать, что машинным обучением всегда удастся решить задачу с хорошим качеством. Но использовать все имеющиеся у вас в арсенале методы для достижения наилучшего результата нужно."
      ]
    }
  ],
  "metadata": {
    "kernelspec": {
      "display_name": "Python 3",
      "language": "python",
      "name": "python3"
    },
    "language_info": {
      "codemirror_mode": {
        "name": "ipython",
        "version": 3
      },
      "file_extension": ".py",
      "mimetype": "text/x-python",
      "name": "python",
      "nbconvert_exporter": "python",
      "pygments_lexer": "ipython3",
      "version": "3.7.6"
    },
    "colab": {
      "provenance": [],
      "toc_visible": true
    }
  },
  "nbformat": 4,
  "nbformat_minor": 0
}